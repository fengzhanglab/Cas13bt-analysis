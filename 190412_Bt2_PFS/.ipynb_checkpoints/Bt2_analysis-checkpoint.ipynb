{
 "cells": [
  {
   "cell_type": "code",
   "execution_count": 24,
   "metadata": {},
   "outputs": [],
   "source": [
    "import pickle\n",
    "import subprocess\n",
    "import numpy as np\n",
    "import matplotlib\n",
    "import matplotlib.pyplot as plt\n",
    "from mpl_toolkits.axes_grid1 import make_axes_locatable\n",
    "matplotlib.rc('pdf', fonttype=42)  # Enable pdf compatible fonts \n",
    "\n",
    "import scipy.stats\n",
    "\n",
    "from sklearn.neighbors import KernelDensity\n",
    "from sklearn.mixture import GaussianMixture\n",
    "\n",
    "import Bio.SeqIO"
   ]
  },
  {
   "cell_type": "code",
   "execution_count": 25,
   "metadata": {},
   "outputs": [],
   "source": [
    "# Sample information\n",
    "ortholog = 'Cas13bt-2'\n",
    "samples = ['Bt2_BR1_S4_R1_001spacers.p', 'Bt2_BR2_S5_R1_001spacers.p', 'Bt2_BR3_S6_R1_001spacers.p', 'Bt2ctrl_BR1_S1_R1_001spacers.p', 'Bt2ctrl_BR2_S2_R1_001spacers.p', 'Bt2ctrl_BR3_S3_R1_001spacers.p', 'Bt2_input_S7_R1_001spacers.p']\n",
    "samples_to_names = {samples[0] : 'Cas13bt2 Experiment Rep 1',\n",
    "                   samples[1] : 'Cas13bt2 Experiment Rep 2',\n",
    "                   samples[2] : 'Cas13bt2 Experiment Rep 3',\n",
    "                   samples[3] : 'Cas13bt2 Control Rep 1',\n",
    "                   samples[4] : 'Cas13bt2 Control Rep 2',\n",
    "                   samples[5] : 'Cas13bt2 Control Rep 3',\n",
    "                   samples[6] : 'Cas13bt2 Input Library',\n",
    "                      }\n",
    "# Map sample ids tosample names and filepaths\n",
    "sample_pair = (samples[0], samples[2])\n",
    "pair_names = [samples_to_names[sample_pair[0]], samples_to_names[sample_pair[1]]]\n",
    "\n",
    "# Load non-targeting spacers list \n",
    "nt_spacers = []\n",
    "with open('nt_spacers.csv', 'r') as f:\n",
    "    for line in f:\n",
    "        nt_spacers.append(line.strip())"
   ]
  },
  {
   "cell_type": "code",
   "execution_count": 26,
   "metadata": {},
   "outputs": [],
   "source": [
    "# Obtain the experiment condition sample information\n",
    "e_N_avg = {}\n",
    "e_Ns = []\n",
    "es = []\n",
    "for e_name in samples[0:3]:\n",
    "    e = pickle.load(open(e_name, 'rb'), encoding='latin1')\n",
    "    # Get sum of all read counts\n",
    "    e_sum = sum([v for v in e.values()])\n",
    "    # Normalize individual spacer count by sum of all read counts in sample\n",
    "    e_N = {u : float(v)/e_sum for u,v in e.items()}\n",
    "    e_Ns.append(e_N)\n",
    "    es.append(e)\n",
    "for u in e_Ns[0]:\n",
    "    e_N_avg[u] = ((e_Ns[0][u], e_Ns[1][u], e_Ns[2][u]), (es[0][u], es[1][u], es[2][u]))"
   ]
  },
  {
   "cell_type": "code",
   "execution_count": 27,
   "metadata": {},
   "outputs": [],
   "source": [
    "# Obtain the control condition sample information\n",
    "c_N_avg = {}\n",
    "c_Ns = []\n",
    "cs = []\n",
    "for c_name in samples[3:6]:\n",
    "    c = pickle.load(open(c_name, 'rb'), encoding='latin1')\n",
    "    # Get sum of all read counts    \n",
    "    c_sum = sum([v for v in c.values()])\n",
    "    # Normalize individual spacer count by sum of all read counts in sample    \n",
    "    c_N = {u : float(v)/c_sum for u,v in c.items()}\n",
    "    c_Ns.append(c_N)\n",
    "    cs.append(c)\n",
    "for u in c_Ns[0]:\n",
    "    c_N_avg[u] = ((c_Ns[0][u], c_Ns[1][u], c_Ns[2][u]), (cs[0][u], cs[1][u], cs[2][u]))"
   ]
  },
  {
   "cell_type": "code",
   "execution_count": 28,
   "metadata": {},
   "outputs": [],
   "source": [
    "# Compute the ratios between the average experimental condition abundance and average control condition abundance \n",
    "ratios = {}\n",
    "for u in c_N_avg:\n",
    "    # Keep track of total read counts across replicates\n",
    "    c_total_count = np.sum(c_N_avg[u][1])\n",
    "    e_total_count = np.sum(e_N_avg[u][1])\n",
    "    c_abundance = np.average(c_N_avg[u][0])\n",
    "    e_abundance = np.average(e_N_avg[u][0])\n",
    "    # Use 1e-9 to avoid divsion by near zero\n",
    "    ratios[u] = (c_total_count, e_total_count, c_abundance, e_abundance, e_abundance / (c_abundance+1e-9))"
   ]
  },
  {
   "cell_type": "code",
   "execution_count": 29,
   "metadata": {},
   "outputs": [
    {
     "name": "stdout",
     "output_type": "stream",
     "text": [
      "[[-0.00684407]\n",
      " [-0.02439363]]\n",
      "[[ 2.86452797e-05]\n",
      " [-1.74719429e-02]]\n",
      "0.6695222154426117\n"
     ]
    }
   ],
   "source": [
    "eps = 1e-12  # Additive constant to avoid division by small numbers\n",
    "min_read_count = 100  # Minimum read count for  analysis \n",
    "sigma = 5  # Number of standard deviations away from mean to establish significance\n",
    "\n",
    "# Obtain targeting and non-targeting experiment (Y) vs control (X) average abundances. \n",
    "X,Y = zip(*[(v[2]+eps, v[3]+eps) for u,v in ratios.items() if v[0] >= min_read_count and not u in nt_spacers])\n",
    "X_nt, Y_nt = zip(*[(v[2]+eps, v[3]+eps) for u,v in ratios.items() if v[0] >= min_read_count and u in nt_spacers])\n",
    "\n",
    "# Obtain mean, medan and all log depletion ratios of non-targeting spacers\n",
    "mean = np.mean(np.array(np.log10(Y_nt)) - np.log10(np.array(X_nt)))\n",
    "median = np.median(np.array(np.log10(Y_nt)) - np.log10(np.array(X_nt)))\n",
    "\n",
    "# Get the spacers depletion ratios of the non-targets\n",
    "dep = np.log10(np.array(Y_nt)) - np.log10(np.array(X_nt))\n",
    "\n",
    "# Perform fit on two component Gaussian mixture model\n",
    "x_d = np.linspace(-4,2, 200)\n",
    "\n",
    "m = GaussianMixture(n_components=2)\n",
    "m.fit(dep[:, None])\n",
    "\n",
    "m_m = m.means_[0]\n",
    "m_std = np.sqrt(m.covariances_[0])\n",
    "logprob1 = scipy.stats.norm(m_m,m_std).logpdf(x_d)[0,:]\n",
    "\n",
    "m_m = m.means_[1]\n",
    "m_std = np.sqrt(m.covariances_[1])\n",
    "logprob2 = scipy.stats.norm(m_m,m_std).logpdf(x_d)[0,:]\n",
    "\n",
    "hi_idx = np.argsort(m.means_.flatten())[-1]\n",
    "print(m.means_)\n",
    "high_mean = m.means_[hi_idx]\n",
    "high_std = np.sqrt(m.covariances_[hi_idx])\n",
    "\n",
    "# Renormalize targeting and  non-targeting conditions by the control median (which is in log10 space)\n",
    "# Normalization parameter for all experimental conditions (to keep depletions of non-target with no offtarget \n",
    "# centered at 1)\n",
    "median = high_mean\n",
    "\n",
    "Y = np.array(Y) / np.power(10, median)\n",
    "Y_nt = np.array(Y_nt) / np.power(10, median)\n",
    "\n",
    "# Redo the GMM fit using the renormalized data\n",
    "dep = np.log10(np.array(Y_nt)) - np.log10(np.array(X_nt))\n",
    "\n",
    "x_d = np.linspace(-4,2, 200)\n",
    "\n",
    "m = GaussianMixture(n_components=2)\n",
    "m.fit(dep[:, None])\n",
    "\n",
    "m_m = m.means_[0]\n",
    "m_std = np.sqrt(m.covariances_[0])\n",
    "logprob1 = scipy.stats.norm(m_m,m_std).logpdf(x_d)[0,:]\n",
    "\n",
    "m_m = m.means_[1]\n",
    "m_std = np.sqrt(m.covariances_[1])\n",
    "logprob2 = scipy.stats.norm(m_m,m_std).logpdf(x_d)[0,:]\n",
    "\n",
    "hi_idx = np.argsort(m.means_.flatten())[-1]\n",
    "print(m.means_)\n",
    "high_mean = m.means_[hi_idx]\n",
    "high_std = np.sqrt(m.covariances_[hi_idx])\n",
    "\n",
    "depletion_thresh = float(np.power(10, high_mean - sigma*high_std))\n",
    "print(depletion_thresh)"
   ]
  },
  {
   "cell_type": "code",
   "execution_count": 56,
   "metadata": {},
   "outputs": [
    {
     "name": "stdout",
     "output_type": "stream",
     "text": [
      "{'depletion_thresh': 0.6695222154426117, 'high_mean': 2.8645279745224694e-05, 'high_std': 0.034852730670116024, 'median': -0.006844065311538109}\n"
     ]
    }
   ],
   "source": [
    "import json\n",
    "\"\"\"\n",
    "with open('./randoms.json', 'w') as f:\n",
    "    data =  {'median' : float(median), 'high_mean' : float(high_mean), \n",
    "               'high_std' : float(high_std), 'depletion_thresh' : float(depletion_thresh)}\n",
    "    json.dump(data, f, sort_keys=True, indent=4)\n",
    "\"\"\"\n",
    "with open('./randoms.json', 'r') as f:    \n",
    "    d = json.load(f)\n",
    "    print(d)"
   ]
  },
  {
   "cell_type": "code",
   "execution_count": 30,
   "metadata": {},
   "outputs": [
    {
     "data": {
      "image/png": "[encoded data removed]",
      "text/plain": [
       "<Figure size 216x144 with 1 Axes>"
      ]
     },
     "metadata": {
      "needs_background": "light"
     },
     "output_type": "display_data"
    }
   ],
   "source": [
    "plt.figure(figsize=(3,2))\n",
    "plt.axvspan(np.log10(depletion_thresh),high_mean+10,color='k',alpha=0.03)\n",
    "plt.hist(dep,density=True, bins=100, color=[193/255,195/255,200/255],label='_nolegend_')\n",
    "plt.plot(x_d, m.weights_[0]*np.exp(logprob1), color=[241/255,97/255,121/255], lw=2)\n",
    "plt.plot(x_d, m.weights_[1]*np.exp(logprob2), color=[74/255,121/255,188/255], lw=2)\n",
    "plt.axvline(np.log10(depletion_thresh), c='k',label='_nolegend_', lw=0.5)\n",
    "plt.axvline(high_mean, c='k', ls='--', lw=1)\n",
    "plt.xlim([-2,1])\n",
    "plt.ylabel('Normalized counts')\n",
    "plt.xlabel('NT spacer abundance')\n",
    "plt.legend(['NT without off-target','NT with Off-target','Baseline mean',r'5$\\sigma$ of baseline'], prop={'size': 6.5})\n",
    "ax = plt.gca()\n",
    "for item in ([] +\n",
    "             ax.get_xticklabels() + ax.get_yticklabels()):\n",
    "    item.set_fontsize(6.5)\n",
    "for item in [ax.title, ax.xaxis.label, ax.yaxis.label]:\n",
    "    item.set_fontsize(7)\n",
    "plt.savefig('./generated_data_and_data/'+ortholog+' nt GMM.pdf')"
   ]
  },
  {
   "cell_type": "code",
   "execution_count": 52,
   "metadata": {},
   "outputs": [
    {
     "data": {
      "image/png": "[encoded data removed]",
      "text/plain": [
       "<Figure size 216x144 with 1 Axes>"
      ]
     },
     "metadata": {
      "needs_background": "light"
     },
     "output_type": "display_data"
    }
   ],
   "source": [
    "bins = np.linspace(-2,1,100)\n",
    "plt.figure(figsize=(3,2))\n",
    "\n",
    "u = np.histogram(np.log10(np.array(Y_nt) / np.array(X_nt)), bins=bins, density=True)\n",
    "plt.fill_between(u[1][1:],u[0], step=\"pre\", color=[[255/255, 81/255, 101/255]], lw=0, alpha=0.5)\n",
    "\n",
    "u = np.histogram(np.log10(np.array(Y) / np.array(X)), bins=bins, density=True)\n",
    "plt.fill_between(u[1][1:],u[0], step=\"pre\", color=[[0.2, 0.25, 0.3]], lw=0, alpha=0.5)\n",
    "\n",
    "plt.xlim([-2, 1])\n",
    "plt.axvline(np.log10(depletion_thresh), linestyle='-', color=[0.05, 0.05, 0.1],lw=1)\n",
    "plt.axvline(high_mean, c='k', ls='--', lw=1)\n",
    "plt.xlabel('Log Depletion Ratio')\n",
    "plt.ylabel('Normalized Counts')\n",
    "plt.legend(['5$\\sigma$','GMM Mean','NT', 'EG'], loc='upper left', frameon=False, prop={'size' : 6.5})\n",
    "plt.ylim([0,10.5])\n",
    "ax = plt.gca()\n",
    "for item in ([] +\n",
    "             ax.get_xticklabels() + ax.get_yticklabels()):\n",
    "    item.set_fontsize(6.5)\n",
    "for item in [ax.title, ax.xaxis.label, ax.yaxis.label]:\n",
    "    item.set_fontsize(7)\n",
    "    \n",
    "plt.savefig('./generated_data_and_data/'+ortholog + ' Depletion Ratios.pdf')\n",
    "plt.show()"
   ]
  },
  {
   "cell_type": "code",
   "execution_count": 57,
   "metadata": {},
   "outputs": [
    {
     "data": {
      "image/png": "[encoded data removed]",
      "text/plain": [
       "<Figure size 360x230.4 with 1 Axes>"
      ]
     },
     "metadata": {
      "needs_background": "light"
     },
     "output_type": "display_data"
    }
   ],
   "source": [
    "# Plot experimental vs control abundance \n",
    "fig = plt.figure(figsize=(5,3.2))\n",
    "ax = plt.gca()\n",
    "x_l, x_r = min([min(X), min(X_nt)])/10*9, 3e-4\n",
    "X_line = np.linspace(x_l, x_r, 1000)\n",
    "Y_line = depletion_thresh*X_line\n",
    "Y_middle_line = X_line\n",
    "\n",
    "plt.plot(X_line, Y_middle_line, '--', c=[0.2, 0.2, 0.2], linewidth=1, zorder=3)\n",
    "plt.plot(X_line, Y_line, '-', c=[0.2, 0.2, 0.2], linewidth=1, zorder=3)\n",
    "plt.scatter(X, Y, color=[[255/255, 81/255, 101/255]], marker='o', s=5, alpha=0.1, rasterized=True,lw=None)\n",
    "plt.scatter(X_nt, Y_nt, color='k', marker='o', s=5, alpha=0.5, rasterized=True, lw=None)\n",
    "\n",
    "plt.xlim([x_l, x_r])\n",
    "plt.ylim([1e-8, 1e-3])\n",
    "ax.set_yscale('log')\n",
    "ax.set_xscale('log')\n",
    "plt.title(ortholog + ' Depletion')\n",
    "\n",
    "plt.xlabel('Average control spacer abundance')\n",
    "plt.ylabel('Average adjusted \\nexperimental spacer abundance')\n",
    "plt.legend(['x=y','5$\\sigma$', 'EG', 'NT'], loc='lower right', frameon=False,prop={'size' : 6.5})\n",
    "\n",
    "[i.set_linewidth(1) for i in ax.spines.values()]\n",
    "ax.spines['right'].set_visible(False)\n",
    "ax.spines['top'].set_visible(False)\n",
    "\n",
    "plt.gcf().subplots_adjust(bottom=0.15, left=0.2)\n",
    "\n",
    "ax = plt.gca()\n",
    "for item in ([] +\n",
    "             ax.get_xticklabels() + ax.get_yticklabels()):\n",
    "    item.set_fontsize(6.5)\n",
    "for item in [ax.title, ax.xaxis.label, ax.yaxis.label]:\n",
    "    item.set_fontsize(7)\n",
    "plt.tight_layout()\n",
    "\n",
    "plt.savefig('./generated_data_and_data/'+ortholog + ' Average Abundance Depletion.pdf', dpi=900)\n",
    "plt.show()"
   ]
  },
  {
   "cell_type": "code",
   "execution_count": 33,
   "metadata": {},
   "outputs": [
    {
     "data": {
      "text/plain": [
       "(267, 31093, 30826)"
      ]
     },
     "execution_count": 33,
     "metadata": {},
     "output_type": "execute_result"
    }
   ],
   "source": [
    "combined_rep = [(u, (v[3]+eps) / (v[2]+eps) / np.power(10, median), v[0], v[1]) for u,v in ratios.items() if v[0] >= min_read_count and (v[3]+eps) / (v[2]+eps) / np.power(10, median) < depletion_thresh]\n",
    "all_rep = [(u, (v[3]+eps) / (v[2]+eps) / np.power(10, median), v[0], v[1]) for u,v in ratios.items() if v[0] >= min_read_count]\n",
    "non_depleted_rep = [(u, (v[3]+eps) / (v[2]+eps) / np.power(10, median), v[0], v[1]) for u,v in ratios.items() if v[0] >= min_read_count and (v[3]+eps) / (v[2]+eps) / np.power(10, median) >= depletion_thresh]\n",
    "len(combined_rep), len(all_rep), len(non_depleted_rep)"
   ]
  },
  {
   "cell_type": "code",
   "execution_count": 34,
   "metadata": {},
   "outputs": [],
   "source": [
    "# Index of the CDS sequences used in the experiment for targeting\n",
    "cds_ids_in_exp = [\n",
    "169,\n",
    "46,\n",
    "336,\n",
    "1222,\n",
    "793,\n",
    "157,\n",
    "156,\n",
    "3994,\n",
    "136,\n",
    "1471,\n",
    "1797,\n",
    "2695,\n",
    "2906,\n",
    "2882,\n",
    "3984,\n",
    "3236,\n",
    "2608,\n",
    "2376,\n",
    "3780,\n",
    "179,\n",
    "159,\n",
    "28,\n",
    "1018,\n",
    "502,\n",
    "3495,\n",
    "2824,\n",
    "448,\n",
    "4592,\n",
    "2903,\n",
    "4399,\n",
    "1056,\n",
    "2685,\n",
    "3751,\n",
    "155,\n",
    "1464,\n",
    "1560,\n",
    "2164,\n",
    "1223,\n",
    "1981,\n",
    "2119,\n",
    "447,\n",
    "1484,\n",
    "442,\n",
    "3319,\n",
    "2130,   \n",
    "]"
   ]
  },
  {
   "cell_type": "code",
   "execution_count": 35,
   "metadata": {},
   "outputs": [],
   "source": [
    "# Get the e coli transcripts (CDS)\n",
    "spacer_len = 30\n",
    "\n",
    "records = list(Bio.SeqIO.parse(open('e_coli.gbk'), 'genbank'))\n",
    "\n",
    "genome_seq = records[0].seq\n",
    "cds_orig = []\n",
    "flank = 500\n",
    "for i,feature in enumerate(records[0].features):\n",
    "    if feature.type != 'CDS':\n",
    "        continue\n",
    "    loc = feature.location\n",
    "    feature_seq = genome_seq[loc.start-flank:loc.end+flank]\n",
    "\n",
    "    # Get the sense strand\n",
    "    if feature.strand == -1:\n",
    "        feature_seq = Bio.Seq.reverse_complement(feature_seq)\n",
    "        \n",
    "    cds_orig.append((feature.qualifiers['product'][0], feature_seq))\n",
    "    \n",
    "# Filter cds to only be those from \n",
    "cds = [cds_orig[i] for i in cds_ids_in_exp]"
   ]
  },
  {
   "cell_type": "code",
   "execution_count": 36,
   "metadata": {},
   "outputs": [],
   "source": [
    "spacer_to_target_map = {}\n",
    "for i,(u,v) in enumerate(ratios.items()):\n",
    "    if v[0] < min_read_count:\n",
    "        continue\n",
    "    search = Bio.Seq.reverse_complement(u)\n",
    "    s = ''\n",
    "    coords = (None,None)\n",
    "    for j,(name, seq) in enumerate(cds):\n",
    "        idx = seq.find(search)\n",
    "        if idx >= 6:\n",
    "            s = seq[idx-6:idx+spacer_len+6]\n",
    "            coords = (idx, (idx - flank) / (len(seq)-2*flank), 1)\n",
    "            # Add to CDS\n",
    "            break\n",
    "            \n",
    "    if s == '':\n",
    "        continue\n",
    "    if len(s) < spacer_len+12:\n",
    "        continue\n",
    "    spacer_to_target_map[u] = s"
   ]
  },
  {
   "cell_type": "code",
   "execution_count": 59,
   "metadata": {},
   "outputs": [
    {
     "name": "stdout",
     "output_type": "stream",
     "text": [
      "2\n"
     ]
    },
    {
     "data": {
      "text/plain": [
       "0"
      ]
     },
     "execution_count": 59,
     "metadata": {},
     "output_type": "execute_result"
    }
   ],
   "source": [
    "# Identfy weblogos (requires weblogo to be installed)\n",
    "\n",
    "with open('./generated_data_and_data/for_logo_control.fa', 'w') as f:\n",
    "    for i,(v) in enumerate(all_rep):\n",
    "        if not v[0] in spacer_to_target_map:\n",
    "            continue\n",
    "        f.write('>'+str(i)+'\\n')\n",
    "        f.write(str(spacer_to_target_map[v[0]]).replace('T','U')+'\\n')\n",
    "        \n",
    "subprocess.call(['weblogo',\n",
    "                 '-s', 'small',\n",
    "                 '-n', '42',\n",
    "                 '-S', '0.05',  \n",
    "                 '--ticmarks','0.05',                          \n",
    "                 '-W', '4.8',\n",
    "                 '-F','pdf',\n",
    "                 '-D','fasta',\n",
    "                 '--color', '#FAA51A', 'G', 'Guanidine',\n",
    "                 '--color', '#0F8140', 'A', 'Adenosine',\n",
    "                 '--color', '#ED2224', 'U', 'Uracil',\n",
    "                 '--color','#3A53A4', 'C', 'Cytidine',\n",
    "                 '-f', './generated_data_and_data/for_logo_control.fa',\n",
    "                 '-o', './generated_data_and_data/'+ortholog+'_weblogo_control.pdf'])\n",
    "        \n",
    "with open('./generated_data_and_data/for_logo_non_depleted.fa', 'w') as f:\n",
    "    for i,(v) in enumerate(non_depleted_rep):\n",
    "        if not v[0] in spacer_to_target_map:\n",
    "            continue\n",
    "        f.write('>'+str(i)+'\\n')\n",
    "        f.write(str(spacer_to_target_map[v[0]]).replace('T','U')+'\\n')\n",
    "        \n",
    "subprocess.call(['weblogo',\n",
    "                 '-s', 'small',\n",
    "                 '-n', '42',\n",
    "                 '-S', '0.05',  \n",
    "                 '--ticmarks','0.05',   \n",
    "                 '-W', '4.8',                 \n",
    "                 '-F','pdf',\n",
    "                 '-D','fasta',\n",
    "                 '--color', '#FAA51A', 'G', 'Guanidine',\n",
    "                 '--color', '#0F8140', 'A', 'Adenosine',\n",
    "                 '--color', '#ED2224', 'U', 'Uracil',\n",
    "                 '--color','#3A53A4', 'C', 'Cytidine',\n",
    "                 '-f', './generated_data_and_data/for_logo_non_depleted.fa',\n",
    "                 '-o', './generated_data_and_data/'+ortholog+'_weblogo_non_depleted.pdf'])        \n",
    "        \n",
    "with open('./generated_data_and_data/for_logo_depleted.fa', 'w') as f:\n",
    "    for i,(v) in enumerate(combined_rep):\n",
    "        if not v[0] in spacer_to_target_map:\n",
    "            continue\n",
    "        f.write('>'+str(i)+'\\n')\n",
    "        f.write(str(spacer_to_target_map[v[0]]).replace('T','U')+'\\n')\n",
    "        \n",
    "subprocess.call(['weblogo',\n",
    "                 '-s', 'small',\n",
    "                 '-n', '42',\n",
    "                 '-S', '0.15',  \n",
    "                 '--ticmarks','0.15',\n",
    "                 '-W', '4.8',                 \n",
    "                 '-F','pdf',\n",
    "                 '-D','fasta',\n",
    "                 '--color', '#FAA51A', 'G', 'Guanidine',\n",
    "                 '--color', '#0F8140', 'A', 'Adenosine',\n",
    "                 '--color', '#ED2224', 'U', 'Uracil',\n",
    "                 '--color','#3A53A4', 'C', 'Cytidine',\n",
    "                 '-f', './generated_data_and_data/for_logo_depleted.fa',\n",
    "                 '-o', './generated_data_and_data/'+ortholog+'_weblogo_depleted.pdf'])         \n",
    "        \n",
    "all_rep_sorted = sorted(all_rep,key=lambda x: x[1])\n",
    "one_perc = int(0.01 * len(all_rep_sorted))  \n",
    "\n",
    "with open('./generated_data_and_data/for_logo_top_one_perc.fa', 'w') as f:\n",
    "    for i,(v) in enumerate(all_rep_sorted):\n",
    "        if i > one_perc:\n",
    "            break\n",
    "        if not v[0] in spacer_to_target_map:\n",
    "            continue\n",
    "        f.write('>'+str(i)+'\\n')\n",
    "        f.write(str(spacer_to_target_map[v[0]]).replace('T','U')+'\\n')\n",
    "        \n",
    "subprocess.call(['weblogo',\n",
    "                 '-s', 'small',\n",
    "                 '-n', '42',\n",
    "                 '-S', '0.5',  \n",
    "                 '-W', '4.8',                 \n",
    "                 '-F','pdf',\n",
    "                 '-D','fasta',\n",
    "                 '--color', '#FAA51A', 'G', 'Guanidine',\n",
    "                 '--color', '#0F8140', 'A', 'Adenosine',\n",
    "                 '--color', '#ED2224', 'U', 'Uracil',\n",
    "                 '--color','#3A53A4', 'C', 'Cytidine',\n",
    "                 '-f', './generated_data_and_data/for_logo_top_one_perc.fa',\n",
    "                 '-o', './generated_data_and_data/'+ortholog+'_weblogo_top_one_perc.pdf'])                 \n",
    "        \n",
    "offtargets = [(u, (v[3]+eps) / (v[2]+eps) / np.power(10, median), v[0], v[1]) for u,v in ratios.items() \n",
    "              if v[0] >= min_read_count \n",
    "              and (v[3]+eps) / (v[2]+eps) / np.power(10, median) < depletion_thresh \n",
    "              and u in nt_spacers]\n",
    "print(len(offtargets))\n",
    "\n",
    "with open('./generated_data_and_data/for_logo_offtargets.fa', 'w') as f:\n",
    "    for i,(v) in enumerate(offtargets):\n",
    "        # Offtargets do not have any genomematch\n",
    "        f.write('>'+str(i)+'\\n')\n",
    "        f.write(v[0].replace('T','U')+'\\n')\n",
    "\n",
    "subprocess.call(['weblogo',\n",
    "                 '-s', 'small',\n",
    "                 '-n', '42',\n",
    "                 '-S', '0.5',                   \n",
    "                 '-W', '4.8',                 \n",
    "                 '-F','pdf',\n",
    "                 '-D','fasta',\n",
    "                 '--color', '#FAA51A', 'G', 'Guanidine',\n",
    "                 '--color', '#0F8140', 'A', 'Adenosine',\n",
    "                 '--color', '#ED2224', 'U', 'Uracil',\n",
    "                 '--color','#3A53A4', 'C', 'Cytidine',\n",
    "                 '-f', './generated_data_and_data/for_logo_offtargets.fa',\n",
    "                 '-o', './generated_data_and_data/'+ortholog+'_weblogo_offtargets.pdf']) "
   ]
  },
  {
   "cell_type": "code",
   "execution_count": 38,
   "metadata": {},
   "outputs": [],
   "source": [
    "# Group spacers into +PFS or -PFS\n",
    "\n",
    "X_has_pfs = []\n",
    "Y_has_pfs = []\n",
    "X_no_pfs = []\n",
    "Y_no_pfs = []\n",
    "\n",
    "for i,(u,v) in enumerate(ratios.items()):\n",
    "    if not u in spacer_to_target_map:\n",
    "        continue\n",
    "    s = spacer_to_target_map[u]\n",
    "    # NOTICE - Cas13b-t2 specific PAM\n",
    "    if s[5] != 'C':\n",
    "        X_has_pfs.append(v[2]+eps)\n",
    "        Y_has_pfs.append(v[3]+eps)\n",
    "    else:\n",
    "        X_no_pfs.append(v[2]+eps)\n",
    "        Y_no_pfs.append(v[3]+eps) \n",
    "    \n",
    "# Normalize by nontarget median\n",
    "Y_has_pfs = np.array(Y_has_pfs) / np.power(10, median)\n",
    "Y_no_pfs = np.array(Y_no_pfs) / np.power(10, median)"
   ]
  },
  {
   "cell_type": "code",
   "execution_count": 39,
   "metadata": {},
   "outputs": [
    {
     "data": {
      "image/png": "[encoded data removed]",
      "text/plain": [
       "<Figure size 79.2x50.4 with 2 Axes>"
      ]
     },
     "metadata": {
      "needs_background": "light"
     },
     "output_type": "display_data"
    }
   ],
   "source": [
    "# Plot abundance histogram\n",
    "plt.rcParams.update({'font.size': 6})\n",
    "\n",
    "bins = np.linspace(-1.5,0.5,100)\n",
    "plt.figure(figsize=(1.1,0.7))\n",
    "\n",
    "plt.subplot(1,2,1)\n",
    "u = np.histogram(np.log10(np.array(Y_no_pfs) / np.array(X_no_pfs)), bins=bins, density=True)\n",
    "m = np.mean(np.log10(np.array(Y_no_pfs) / np.array(X_no_pfs)))\n",
    "plt.axvline(m, color=[0.2, 0.25, 0.3], lw=0.5)\n",
    "plt.fill_between(u[1][1:],u[0], step=\"pre\", color=[[0.2, 0.25, 0.3]], lw=0, alpha=0.25)\n",
    "plt.xlim([-1.5, 0.5])\n",
    "ax = plt.gca()\n",
    "ax.spines['right'].set_visible(False)\n",
    "ax.spines['top'].set_visible(False)\n",
    "\n",
    "u = np.histogram(np.log10(np.array(Y_has_pfs) / np.array(X_has_pfs)), bins=bins, density=True)\n",
    "m = np.mean(np.log10(np.array(Y_has_pfs) / np.array(X_has_pfs)))\n",
    "plt.axvline(m, color=[241/255, 95/255, 121/255], lw=0.5)\n",
    "plt.fill_between(u[1][1:],u[0], step=\"pre\", color=[[241/255, 95/255, 121/255]], lw=0, alpha=0.5)\n",
    "plt.xlim([-1.5, 0.5])\n",
    "plt.ylim([0,12])\n",
    "plt.yticks([0,12])\n",
    "\n",
    "ax = plt.gca()\n",
    "ax.spines['right'].set_visible(False)\n",
    "ax.spines['top'].set_visible(False)\n",
    "for axis in ['top','bottom','left','right']:\n",
    "    ax.spines[axis].set_linewidth(0.25)\n",
    "    ax.tick_params(width=0.25)\n",
    "\n",
    "plt.gcf().subplots_adjust(bottom=0.25, right=1)\n",
    "\n",
    "plt.subplot(1,2,2)\n",
    "u = np.histogram(np.log10(np.array(Y_nt) / np.array(X_nt)), bins=bins, density=True)\n",
    "plt.fill_between(u[1][1:],u[0], step=\"pre\", color=[[188/255, 230/255, 250/255]], lw=0)\n",
    "\n",
    "plt.xlim([-1.5, 0.5])\n",
    "ax = plt.gca()\n",
    "ax.spines['right'].set_visible(False)\n",
    "ax.spines['top'].set_visible(False)\n",
    "plt.ylim([0,12])\n",
    "plt.yticks([0,12])\n",
    "for axis in ['top','bottom','left','right']:\n",
    "    ax.spines[axis].set_linewidth(0.25)\n",
    "    ax.tick_params(width=0.25)\n",
    "\n",
    "plt.savefig('./generated_data_and_data/'+ortholog + ' Depletion Ratios With PFS.pdf')\n",
    "plt.show()"
   ]
  },
  {
   "cell_type": "code",
   "execution_count": 40,
   "metadata": {},
   "outputs": [
    {
     "name": "stdout",
     "output_type": "stream",
     "text": [
      "0.008299666256806604 0.008647978331103352 0.0044444444444444444\n"
     ]
    }
   ],
   "source": [
    "# PFS Efficacy in prediction\n",
    "pfs_eff = np.sum(np.array(Y_has_pfs) / np.array(X_has_pfs) < depletion_thresh) / len(Y_has_pfs)\n",
    "off_target = np.sum(np.array(Y_nt) / np.array(X_nt) < depletion_thresh) / len(Y_nt)\n",
    "eff = np.sum(np.array(Y) / np.array(X) < depletion_thresh) / len(Y)\n",
    "\n",
    "print(pfs_eff, eff, off_target)"
   ]
  },
  {
   "cell_type": "code",
   "execution_count": 41,
   "metadata": {
    "scrolled": true
   },
   "outputs": [
    {
     "name": "stdout",
     "output_type": "stream",
     "text": [
      "0\n",
      "1000\n",
      "2000\n",
      "3000\n",
      "4000\n",
      "5000\n",
      "6000\n",
      "7000\n",
      "8000\n",
      "9000\n",
      "10000\n",
      "11000\n",
      "12000\n",
      "13000\n",
      "14000\n",
      "15000\n",
      "16000\n",
      "17000\n",
      "18000\n",
      "19000\n",
      "20000\n",
      "21000\n",
      "22000\n",
      "23000\n",
      "24000\n",
      "25000\n",
      "26000\n",
      "27000\n",
      "28000\n",
      "29000\n",
      "30000\n",
      "31000\n"
     ]
    }
   ],
   "source": [
    "# Get coordinates and guide information on a per CDS basis\n",
    "spacer_len = 30\n",
    "counts = {}\n",
    "guides = {}\n",
    "for i in range(len(all_rep)):\n",
    "    search = Bio.Seq.reverse_complement(all_rep[i][0])\n",
    "    s = ''\n",
    "    coords = (None,None)  \n",
    "    for j,(name, seq) in enumerate(cds):\n",
    "        # Find match\n",
    "        idx = seq.find(search)\n",
    "        if idx > 0:\n",
    "            # If match, extract match sequence and coordinates\n",
    "            s = seq[idx-6:idx+spacer_len+6]\n",
    "            coords = (idx, (idx - flank) / (len(seq)-2*flank), 1)\n",
    "            # Count number of guides mapping to the CDS j\n",
    "            counts[j] = counts.get(j,0) + 1\n",
    "            if not j in guides:\n",
    "                guides[j] = []\n",
    "            # Append all the guides matching to this CDS\n",
    "            guides[j].append(search)\n",
    "    if i % 1000 == 0:\n",
    "        print(i)"
   ]
  },
  {
   "cell_type": "code",
   "execution_count": 42,
   "metadata": {},
   "outputs": [],
   "source": [
    "# Get depletion information on a per CDS basis \n",
    "depletion_info = []\n",
    "depletion_no_pam_info = []\n",
    "depletion_nt_info = []\n",
    "all_js = set()\n",
    "spacer_len = 30\n",
    "for i in range(len(all_rep)):\n",
    "    search = Bio.Seq.reverse_complement(all_rep[i][0])\n",
    "    # Get the normalized depletion (NT median divided off)\n",
    "    d = all_rep[i][1]\n",
    "    s = ''\n",
    "    coords = (None,None)\n",
    "    for j,(name, seq) in enumerate(cds):\n",
    "        if not j in guides:\n",
    "            continue\n",
    "        rc = Bio.Seq.reverse_complement(seq)\n",
    "        idx = seq.find(search)\n",
    "        if idx >= 6:\n",
    "            s = seq[idx-6:idx+spacer_len+6]\n",
    "            coords = (idx, (idx - flank) / (len(seq)-2*flank), 1)\n",
    "            break\n",
    "\n",
    "    if all_rep[i][0] in nt_spacers:\n",
    "        depletion_nt_info.append((j, coords, s, d))\n",
    "        continue\n",
    "    if s == '':\n",
    "        continue\n",
    "    if len(s) < spacer_len+12:\n",
    "        print(s)\n",
    "        continue\n",
    "    # Cas13b-t2 specific conditions\n",
    "    if s[5] != 'C':\n",
    "        depletion_info.append((j, coords, s, d))\n",
    "    else:        \n",
    "        depletion_no_pam_info.append((j, coords, s, d))"
   ]
  },
  {
   "cell_type": "code",
   "execution_count": 43,
   "metadata": {},
   "outputs": [
    {
     "data": {
      "image/png": "[encoded data removed]",
      "text/plain": [
       "<Figure size 36x43.2 with 1 Axes>"
      ]
     },
     "metadata": {
      "needs_background": "light"
     },
     "output_type": "display_data"
    }
   ],
   "source": [
    "import itertools\n",
    "delta = 0.025\n",
    "# Create a coordinate line linspace\n",
    "L = np.arange(-0.05,1.05+delta/2,delta)\n",
    "V = []\n",
    "V_no_pam = []\n",
    "for i in range(len(L)-1):    \n",
    "    l = L[i]\n",
    "    u = L[i+1]\n",
    "    kv = [(v[0],v[3]) for v in depletion_info if (not v[1][1] is None) and l <= v[1][1] and v[1][1] < u]\n",
    "    # Groupby\n",
    "    gb = {}\n",
    "    for j,d in kv:\n",
    "        if not j in gb:\n",
    "            gb[j] = []\n",
    "        gb[j].append(d)\n",
    "    # Calculate mean across each cds\n",
    "    mean_by_cds = list(map(lambda x: (x[0], np.mean(x[1])),gb.items()))\n",
    "    # Take mean of means\n",
    "    v = np.mean([m for j,m in mean_by_cds])\n",
    "    V.append(v)\n",
    "    \n",
    "    kv = [(v[0],v[3]) for v in depletion_no_pam_info if (not v[1][1] is None) and l <= v[1][1] and v[1][1] < u]\n",
    "    # Groupby\n",
    "    gb = {}\n",
    "    for j,d in kv:\n",
    "        if not j in gb:\n",
    "            gb[j] = []\n",
    "        gb[j].append(d)\n",
    "    # Calculate mean across each cds\n",
    "    mean_by_cds = list(map(lambda x: (x[0], np.mean(x[1])),gb.items()))\n",
    "    # Take mean of means\n",
    "    v = np.mean([m for j,m in mean_by_cds])\n",
    "    V_no_pam.append(v)\n",
    "\n",
    "W = [v[3] for v in depletion_no_pam_info + depletion_info if not v[1][1] is None and l <= v[1][1] and v[1][1] < u]\n",
    "div_factor = 1\n",
    "   \n",
    "plt.figure(figsize=(0.5,0.6))\n",
    "plt.plot(L[:-1]+delta/2,np.array(V_no_pam),color=[0.2, 0.25, 0.3], lw=0.5)\n",
    "plt.plot(L[:-1]+delta/2,np.array(V),color=[241/255, 95/255, 121/255], lw=0.5)\n",
    "plt.ylim([0.5,1.5])\n",
    "plt.yticks([0.5,1,1.5])\n",
    "\n",
    "ax = plt.gca()\n",
    "ax.spines['right'].set_visible(False)\n",
    "ax.spines['top'].set_visible(False)\n",
    "for axis in ['top','bottom','left','right']:\n",
    "    ax.spines[axis].set_linewidth(0.25)\n",
    "    ax.tick_params(width=0.25)\n",
    "    \n",
    "ax.tick_params(axis='x',direction='out', length=1.44, width=0.25)\n",
    "ax.tick_params(axis='y',direction='out', length=1.80, width=0.25)\n",
    "\n",
    "plt.xlim([-0.05,1.05])\n",
    "    \n",
    "plt.savefig('./generated_data_and_data/'+ortholog+' positional_preference.pdf')"
   ]
  },
  {
   "cell_type": "code",
   "execution_count": 44,
   "metadata": {},
   "outputs": [
    {
     "data": {
      "image/png": "[encoded data removed]",
      "text/plain": [
       "<Figure size 288x144 with 1 Axes>"
      ]
     },
     "metadata": {
      "needs_background": "light"
     },
     "output_type": "display_data"
    }
   ],
   "source": [
    "pos = [u[1][1] for u in depletion_info if not u[1][1] is None]\n",
    "\n",
    "plt.figure(figsize=(4,2))\n",
    "plt.hist(pos, 100, color=[0.2, 0.25, 0.3], density=True)\n",
    "plt.xlabel('Normalized position along gene')\n",
    "plt.ylabel('Normalized \\nguide count')\n",
    "plt.title(ortholog)\n",
    "plt.xlim([-0.2, 1.2])\n",
    "plt.gcf().subplots_adjust(bottom=0.25, left=0.2)\n",
    "plt.savefig('./generated_data_and_data/'+ortholog + ' Gene Position Distribution.pdf')\n",
    "plt.show()"
   ]
  },
  {
   "cell_type": "code",
   "execution_count": 45,
   "metadata": {},
   "outputs": [
    {
     "name": "stdout",
     "output_type": "stream",
     "text": [
      "265\n",
      "30643\n"
     ]
    }
   ],
   "source": [
    "depletion_info = []\n",
    "all_depletion_info = []\n",
    "all_js = set()\n",
    "spacer_len = 30\n",
    "for i in range(len(all_rep)):\n",
    "    search = Bio.Seq.reverse_complement(all_rep[i][0])\n",
    "    d = all_rep[i][1] \n",
    "    s = ''\n",
    "    coords = (None,None)\n",
    "    for j,(name, seq) in enumerate(cds):\n",
    "        if not j in guides:\n",
    "            continue\n",
    "        rc = Bio.Seq.reverse_complement(seq)\n",
    "        idx = seq.find(search)\n",
    "        if idx >= 6:\n",
    "            s = seq[idx-6:idx+spacer_len+6]\n",
    "            coords = (idx, (idx - flank) / (len(seq)-2*flank), 1)\n",
    "            break\n",
    "\n",
    "    if all_rep[i][0] in nt_spacers:\n",
    "        depletion_nt_info.append((j, coords, s, d))\n",
    "        continue\n",
    "    if s == '':\n",
    "        continue\n",
    "    if len(s) < spacer_len+12:\n",
    "        print(s)\n",
    "        continue\n",
    "    if d < depletion_thresh:\n",
    "        depletion_info.append((j, coords, s, d))\n",
    "    all_depletion_info.append((j, coords, s, d))\n",
    "print(len(depletion_info))\n",
    "print(len(all_depletion_info))"
   ]
  },
  {
   "cell_type": "code",
   "execution_count": 46,
   "metadata": {},
   "outputs": [
    {
     "data": {
      "image/png": "[encoded data removed]",
      "text/plain": [
       "<Figure size 288x126 with 2 Axes>"
      ]
     },
     "metadata": {
      "needs_background": "light"
     },
     "output_type": "display_data"
    }
   ],
   "source": [
    "# Multi positional preferences \n",
    "bases = ['A', 'T', 'G', 'C']\n",
    "p1 = 5\n",
    "p2 = 37\n",
    "p3 = 38\n",
    "tokens = {(a,b,c) : 0 for a in bases for b in bases for c in bases}\n",
    "tokens_all = {(a,b,c) : 0 for a in bases for b in bases for c in bases}\n",
    "for i in range(len(depletion_info)):\n",
    "    try:\n",
    "        token = (str(depletion_info[i][2][p1]), str(depletion_info[i][2][p2]), str(depletion_info[i][2][p3]))\n",
    "        tokens[token] += 1\n",
    "    except:\n",
    "        pass\n",
    "for i in range(len(all_depletion_info)):\n",
    "    try:\n",
    "        token = (str(all_depletion_info[i][2][p1]), str(all_depletion_info[i][2][p2]), str(all_depletion_info[i][2][p3]))\n",
    "        tokens_all[token] += 1\n",
    "    except:\n",
    "        pass\n",
    "    \n",
    "token_depletion = {u : 1-tokens[u] / (tokens_all[u]+0.001) for u in tokens.keys()}\n",
    "dual_bases = [(a,b) for a in bases for b in bases]\n",
    "dual_bases_labels = [a+b for a,b in dual_bases]\n",
    "\n",
    "Z = np.zeros((4,16))\n",
    "for i,a in enumerate(bases):\n",
    "    for j,(b,c) in enumerate(dual_bases):\n",
    "        token = (a,b,c)\n",
    "        depletion = token_depletion[token]\n",
    "        Z[i,j] = depletion\n",
    "plt.figure(figsize=(4,1.75))\n",
    "cm = plt.cm.get_cmap('magma_r')\n",
    "ax = plt.gca()\n",
    "im = plt.imshow(Z,cmap=cm, vmax=1)\n",
    "ax.set_xticks(np.arange(len(dual_bases_labels)))\n",
    "ax.set_yticks(np.arange(len(bases)))\n",
    "# ... and label them with the respective list entries\n",
    "ax.set_xticklabels(dual_bases_labels, rotation=-60, fontdict={'fontfamily' : 'Andale Mono'})\n",
    "ax.set_yticklabels(bases,rotation=0, fontdict={'fontfamily' : 'Andale Mono'})\n",
    "plt.xlabel('3\\' PFS (+2, +3)')\n",
    "plt.ylabel('5\\' PFS (-1)')\n",
    "plt.title(ortholog)\n",
    "\n",
    "divider = make_axes_locatable(ax)\n",
    "cax = divider.append_axes(\"right\", size=\"5%\", pad=0.05)\n",
    "plt.colorbar(im,cax=cax)\n",
    "\n",
    "plt.savefig('./generated_data_and_data/'+ortholog + ' pfs map.pdf')\n",
    "plt.show()"
   ]
  },
  {
   "cell_type": "code",
   "execution_count": null,
   "metadata": {},
   "outputs": [],
   "source": []
  }
 ],
 "metadata": {
  "kernelspec": {
   "display_name": "Python 3",
   "language": "python",
   "name": "python3"
  },
  "language_info": {
   "codemirror_mode": {
    "name": "ipython",
    "version": 3
   },
   "file_extension": ".py",
   "mimetype": "text/x-python",
   "name": "python",
   "nbconvert_exporter": "python",
   "pygments_lexer": "ipython3",
   "version": "3.8.3"
  }
 },
 "nbformat": 4,
 "nbformat_minor": 2
}
