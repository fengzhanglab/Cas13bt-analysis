{
 "cells": [
  {
   "cell_type": "code",
   "execution_count": 177,
   "metadata": {},
   "outputs": [],
   "source": [
    "import statsmodels.api as sm\n",
    "import matplotlib \n",
    "import scipy.stats\n",
    "import matplotlib.pyplot as plt\n",
    "import pandas as pd\n",
    "import numpy as np"
   ]
  },
  {
   "cell_type": "code",
   "execution_count": 47,
   "metadata": {},
   "outputs": [
    {
     "data": {
      "text/plain": [
       "Index(['Unnamed: 0', 'Cluc_W85X_1', 'Cluc_W85X_2', 'Cluc_W85X_3',\n",
       "       'Cluc_W85X_4', 'CTNNB1_T41A_1', 'CTNNB1_T41A_2', 'CTNNB1_T41A_3',\n",
       "       'CTNNB1_T41A_4', 'STAT1_Y701C_1', 'STAT1_Y701C_2', 'STAT1_Y701C_3',\n",
       "       'STAT1_Y701C_4', 'STAT3_Y705C_1', 'STAT3_Y705C_2', 'STAT3_Y705C_3',\n",
       "       'STAT3_Y705C_4', 'LATS1_T1079A_1', 'LATS1_T1079A_2', 'LATS1_T1079A_3',\n",
       "       'LATS1_T1079A_4', 'Gluc_R82C_1', 'Gluc_R82C_2', 'Gluc_R82C_3',\n",
       "       'Gluc_R82C_4', 'CTNNB1_T41I_1', 'CTNNB1_T41I_2', 'CTNNB1_T41I_3',\n",
       "       'CTNNB1_T41I_4', 'KRAS_D30D_1', 'KRAS_D30D_2', 'KRAS_D30D_3',\n",
       "       'KRAS_D30D_4', 'KRAS_L56L_1', 'KRAS_L56L_2', 'KRAS_L56L_3',\n",
       "       'KRAS_L56L_4'],\n",
       "      dtype='object')"
      ]
     },
     "execution_count": 47,
     "metadata": {},
     "output_type": "execute_result"
    }
   ],
   "source": [
    "df_data = pd.read_csv('./210312_Fig2C_Data.csv')\n",
    "df_data.columns"
   ]
  },
  {
   "cell_type": "code",
   "execution_count": 194,
   "metadata": {},
   "outputs": [
    {
     "data": {
      "text/html": [
       "<div>\n",
       "<style scoped>\n",
       "    .dataframe tbody tr th:only-of-type {\n",
       "        vertical-align: middle;\n",
       "    }\n",
       "\n",
       "    .dataframe tbody tr th {\n",
       "        vertical-align: top;\n",
       "    }\n",
       "\n",
       "    .dataframe thead th {\n",
       "        text-align: right;\n",
       "    }\n",
       "</style>\n",
       "<table border=\"1\" class=\"dataframe\">\n",
       "  <thead>\n",
       "    <tr style=\"text-align: right;\">\n",
       "      <th></th>\n",
       "      <th>Protein</th>\n",
       "      <th>Target</th>\n",
       "      <th>Editing</th>\n",
       "    </tr>\n",
       "  </thead>\n",
       "  <tbody>\n",
       "    <tr>\n",
       "      <th>0</th>\n",
       "      <td>+</td>\n",
       "      <td>NT</td>\n",
       "      <td>0.009722</td>\n",
       "    </tr>\n",
       "    <tr>\n",
       "      <th>1</th>\n",
       "      <td>+</td>\n",
       "      <td>NT</td>\n",
       "      <td>0.016461</td>\n",
       "    </tr>\n",
       "    <tr>\n",
       "      <th>2</th>\n",
       "      <td>+</td>\n",
       "      <td>NT</td>\n",
       "      <td>0.017190</td>\n",
       "    </tr>\n",
       "    <tr>\n",
       "      <th>3</th>\n",
       "      <td>+</td>\n",
       "      <td>NT</td>\n",
       "      <td>0.020658</td>\n",
       "    </tr>\n",
       "    <tr>\n",
       "      <th>4</th>\n",
       "      <td>+</td>\n",
       "      <td>T</td>\n",
       "      <td>0.363039</td>\n",
       "    </tr>\n",
       "    <tr>\n",
       "      <th>5</th>\n",
       "      <td>+</td>\n",
       "      <td>T</td>\n",
       "      <td>0.396324</td>\n",
       "    </tr>\n",
       "    <tr>\n",
       "      <th>6</th>\n",
       "      <td>+</td>\n",
       "      <td>T</td>\n",
       "      <td>0.472937</td>\n",
       "    </tr>\n",
       "    <tr>\n",
       "      <th>7</th>\n",
       "      <td>+</td>\n",
       "      <td>T</td>\n",
       "      <td>0.545977</td>\n",
       "    </tr>\n",
       "    <tr>\n",
       "      <th>8</th>\n",
       "      <td>-</td>\n",
       "      <td>NT</td>\n",
       "      <td>0.000782</td>\n",
       "    </tr>\n",
       "    <tr>\n",
       "      <th>9</th>\n",
       "      <td>-</td>\n",
       "      <td>NT</td>\n",
       "      <td>0.000833</td>\n",
       "    </tr>\n",
       "    <tr>\n",
       "      <th>10</th>\n",
       "      <td>-</td>\n",
       "      <td>NT</td>\n",
       "      <td>0.000855</td>\n",
       "    </tr>\n",
       "    <tr>\n",
       "      <th>11</th>\n",
       "      <td>-</td>\n",
       "      <td>NT</td>\n",
       "      <td>0.001075</td>\n",
       "    </tr>\n",
       "    <tr>\n",
       "      <th>12</th>\n",
       "      <td>-</td>\n",
       "      <td>T</td>\n",
       "      <td>0.000000</td>\n",
       "    </tr>\n",
       "    <tr>\n",
       "      <th>13</th>\n",
       "      <td>-</td>\n",
       "      <td>T</td>\n",
       "      <td>0.000852</td>\n",
       "    </tr>\n",
       "    <tr>\n",
       "      <th>14</th>\n",
       "      <td>-</td>\n",
       "      <td>T</td>\n",
       "      <td>0.001220</td>\n",
       "    </tr>\n",
       "    <tr>\n",
       "      <th>15</th>\n",
       "      <td>-</td>\n",
       "      <td>T</td>\n",
       "      <td>0.001565</td>\n",
       "    </tr>\n",
       "  </tbody>\n",
       "</table>\n",
       "</div>"
      ],
      "text/plain": [
       "   Protein Target   Editing\n",
       "0        +     NT  0.009722\n",
       "1        +     NT  0.016461\n",
       "2        +     NT  0.017190\n",
       "3        +     NT  0.020658\n",
       "4        +      T  0.363039\n",
       "5        +      T  0.396324\n",
       "6        +      T  0.472937\n",
       "7        +      T  0.545977\n",
       "8        -     NT  0.000782\n",
       "9        -     NT  0.000833\n",
       "10       -     NT  0.000855\n",
       "11       -     NT  0.001075\n",
       "12       -      T  0.000000\n",
       "13       -      T  0.000852\n",
       "14       -      T  0.001220\n",
       "15       -      T  0.001565"
      ]
     },
     "execution_count": 194,
     "metadata": {},
     "output_type": "execute_result"
    }
   ],
   "source": [
    "#df['Cluc_W85X_1']\n",
    "var = 'Cluc_W85X'\n",
    "zip_order = [(1,1),\n",
    "            (1,0),\n",
    "            (0,1),\n",
    "            (0,0)]\n",
    "zip_order = [('+','T'),\n",
    "            ('+','NT'),\n",
    "            ('-','T'),\n",
    "            ('-','NT')]\n",
    "df = pd.DataFrame(data=sorted([u + (v,) for i in range(1,5) for u,v in \n",
    "                               zip(zip_order, df_data[var+'_'+str(i)].values)]),\n",
    "             columns=['Protein','Target','Editing'])\n",
    "#df['Editing'] = df['Editing'].values[np.random.permutation(df.shape[0])]\n",
    "\n",
    "def eta_squared(aov):\n",
    "    aov['eta_sq'] = 'NaN'\n",
    "    aov['eta_sq'] = aov[:-1]['sum_sq']/sum(aov['sum_sq'])\n",
    "    return aov\n",
    "def omega_squared(aov):\n",
    "    mse = aov['sum_sq'][-1]/aov['df'][-1]\n",
    "    aov['omega_sq'] = 'NaN'\n",
    "    aov['omega_sq'] = (aov[:-1]['sum_sq']-(aov[:-1]['df']*mse))/(sum(aov['sum_sq'])+mse)\n",
    "    return aov\n",
    "#df['Editing'] = [   \n",
    "#    0.05,0.02,0.04,0.1, \n",
    "#    0.05,0.02,0.04,0.1,                \n",
    "#    0.05,0.02,0.04,0.1,\n",
    "#    0.3,0.6,0.9,0.5,\n",
    "#                ]\n",
    "df"
   ]
  },
  {
   "cell_type": "code",
   "execution_count": 195,
   "metadata": {},
   "outputs": [
    {
     "data": {
      "text/html": [
       "<div>\n",
       "<style scoped>\n",
       "    .dataframe tbody tr th:only-of-type {\n",
       "        vertical-align: middle;\n",
       "    }\n",
       "\n",
       "    .dataframe tbody tr th {\n",
       "        vertical-align: top;\n",
       "    }\n",
       "\n",
       "    .dataframe thead th {\n",
       "        text-align: right;\n",
       "    }\n",
       "</style>\n",
       "<table border=\"1\" class=\"dataframe\">\n",
       "  <thead>\n",
       "    <tr style=\"text-align: right;\">\n",
       "      <th></th>\n",
       "      <th>sum_sq</th>\n",
       "      <th>df</th>\n",
       "      <th>F</th>\n",
       "      <th>PR(&gt;F)</th>\n",
       "      <th>eta_sq</th>\n",
       "      <th>omega_sq</th>\n",
       "    </tr>\n",
       "  </thead>\n",
       "  <tbody>\n",
       "    <tr>\n",
       "      <th>C(Protein)</th>\n",
       "      <td>0.210480</td>\n",
       "      <td>1.0</td>\n",
       "      <td>125.489542</td>\n",
       "      <td>1.036784e-07</td>\n",
       "      <td>0.352011</td>\n",
       "      <td>0.348229</td>\n",
       "    </tr>\n",
       "    <tr>\n",
       "      <th>C(Target)</th>\n",
       "      <td>0.183684</td>\n",
       "      <td>1.0</td>\n",
       "      <td>109.513631</td>\n",
       "      <td>2.187176e-07</td>\n",
       "      <td>0.307197</td>\n",
       "      <td>0.303540</td>\n",
       "    </tr>\n",
       "    <tr>\n",
       "      <th>C(Protein):C(Target)</th>\n",
       "      <td>0.183645</td>\n",
       "      <td>1.0</td>\n",
       "      <td>109.490175</td>\n",
       "      <td>2.189730e-07</td>\n",
       "      <td>0.307131</td>\n",
       "      <td>0.303475</td>\n",
       "    </tr>\n",
       "    <tr>\n",
       "      <th>Residual</th>\n",
       "      <td>0.020127</td>\n",
       "      <td>12.0</td>\n",
       "      <td>NaN</td>\n",
       "      <td>NaN</td>\n",
       "      <td>NaN</td>\n",
       "      <td>NaN</td>\n",
       "    </tr>\n",
       "  </tbody>\n",
       "</table>\n",
       "</div>"
      ],
      "text/plain": [
       "                        sum_sq    df           F        PR(>F)    eta_sq  \\\n",
       "C(Protein)            0.210480   1.0  125.489542  1.036784e-07  0.352011   \n",
       "C(Target)             0.183684   1.0  109.513631  2.187176e-07  0.307197   \n",
       "C(Protein):C(Target)  0.183645   1.0  109.490175  2.189730e-07  0.307131   \n",
       "Residual              0.020127  12.0         NaN           NaN       NaN   \n",
       "\n",
       "                      omega_sq  \n",
       "C(Protein)            0.348229  \n",
       "C(Target)             0.303540  \n",
       "C(Protein):C(Target)  0.303475  \n",
       "Residual                   NaN  "
      ]
     },
     "execution_count": 195,
     "metadata": {},
     "output_type": "execute_result"
    }
   ],
   "source": [
    "from statsmodels.formula.api import ols\n",
    "\n",
    "#perform two-way ANOVA\n",
    "model = ols('Editing ~ C(Protein) + C(Target) + C(Protein):C(Target)', data=df).fit()\n",
    "aov_table = sm.stats.anova_lm(model, typ=2)\n",
    "eta_squared(aov_table)\n",
    "omega_squared(aov_table)\n",
    "aov_table "
   ]
  },
  {
   "cell_type": "code",
   "execution_count": 196,
   "metadata": {},
   "outputs": [
    {
     "name": "stderr",
     "output_type": "stream",
     "text": [
      "/Users/altaeth/Installations/Anaconda/anaconda3/lib/python3.8/site-packages/scipy/stats/stats.py:1603: UserWarning: kurtosistest only valid for n>=20 ... continuing anyway, n=16\n",
      "  warnings.warn(\"kurtosistest only valid for n>=20 ... continuing \"\n"
     ]
    },
    {
     "data": {
      "text/html": [
       "<table class=\"simpletable\">\n",
       "<caption>OLS Regression Results</caption>\n",
       "<tr>\n",
       "  <th>Dep. Variable:</th>         <td>Editing</td>     <th>  R-squared:         </th> <td>   0.966</td>\n",
       "</tr>\n",
       "<tr>\n",
       "  <th>Model:</th>                   <td>OLS</td>       <th>  Adj. R-squared:    </th> <td>   0.958</td>\n",
       "</tr>\n",
       "<tr>\n",
       "  <th>Method:</th>             <td>Least Squares</td>  <th>  F-statistic:       </th> <td>   114.8</td>\n",
       "</tr>\n",
       "<tr>\n",
       "  <th>Date:</th>             <td>Fri, 12 Mar 2021</td> <th>  Prob (F-statistic):</th> <td>4.20e-09</td>\n",
       "</tr>\n",
       "<tr>\n",
       "  <th>Time:</th>                 <td>23:13:46</td>     <th>  Log-Likelihood:    </th> <td>  30.723</td>\n",
       "</tr>\n",
       "<tr>\n",
       "  <th>No. Observations:</th>      <td>    16</td>      <th>  AIC:               </th> <td>  -53.45</td>\n",
       "</tr>\n",
       "<tr>\n",
       "  <th>Df Residuals:</th>          <td>    12</td>      <th>  BIC:               </th> <td>  -50.36</td>\n",
       "</tr>\n",
       "<tr>\n",
       "  <th>Df Model:</th>              <td>     3</td>      <th>                     </th>     <td> </td>   \n",
       "</tr>\n",
       "<tr>\n",
       "  <th>Covariance Type:</th>      <td>nonrobust</td>    <th>                     </th>     <td> </td>   \n",
       "</tr>\n",
       "</table>\n",
       "<table class=\"simpletable\">\n",
       "<tr>\n",
       "                 <td></td>                   <th>coef</th>     <th>std err</th>      <th>t</th>      <th>P>|t|</th>  <th>[0.025</th>    <th>0.975]</th>  \n",
       "</tr>\n",
       "<tr>\n",
       "  <th>Intercept</th>                      <td>    0.0160</td> <td>    0.020</td> <td>    0.782</td> <td> 0.450</td> <td>   -0.029</td> <td>    0.061</td>\n",
       "</tr>\n",
       "<tr>\n",
       "  <th>C(Protein)[T.-]</th>                <td>   -0.0151</td> <td>    0.029</td> <td>   -0.522</td> <td> 0.611</td> <td>   -0.078</td> <td>    0.048</td>\n",
       "</tr>\n",
       "<tr>\n",
       "  <th>C(Target)[T.T]</th>                 <td>    0.4286</td> <td>    0.029</td> <td>   14.799</td> <td> 0.000</td> <td>    0.365</td> <td>    0.492</td>\n",
       "</tr>\n",
       "<tr>\n",
       "  <th>C(Protein)[T.-]:C(Target)[T.T]</th> <td>   -0.4285</td> <td>    0.041</td> <td>  -10.464</td> <td> 0.000</td> <td>   -0.518</td> <td>   -0.339</td>\n",
       "</tr>\n",
       "</table>\n",
       "<table class=\"simpletable\">\n",
       "<tr>\n",
       "  <th>Omnibus:</th>       <td> 8.645</td> <th>  Durbin-Watson:     </th> <td>   1.496</td>\n",
       "</tr>\n",
       "<tr>\n",
       "  <th>Prob(Omnibus):</th> <td> 0.013</td> <th>  Jarque-Bera (JB):  </th> <td>   7.549</td>\n",
       "</tr>\n",
       "<tr>\n",
       "  <th>Skew:</th>          <td> 0.576</td> <th>  Prob(JB):          </th> <td>  0.0230</td>\n",
       "</tr>\n",
       "<tr>\n",
       "  <th>Kurtosis:</th>      <td> 6.162</td> <th>  Cond. No.          </th> <td>    6.85</td>\n",
       "</tr>\n",
       "</table><br/><br/>Warnings:<br/>[1] Standard Errors assume that the covariance matrix of the errors is correctly specified."
      ],
      "text/plain": [
       "<class 'statsmodels.iolib.summary.Summary'>\n",
       "\"\"\"\n",
       "                            OLS Regression Results                            \n",
       "==============================================================================\n",
       "Dep. Variable:                Editing   R-squared:                       0.966\n",
       "Model:                            OLS   Adj. R-squared:                  0.958\n",
       "Method:                 Least Squares   F-statistic:                     114.8\n",
       "Date:                Fri, 12 Mar 2021   Prob (F-statistic):           4.20e-09\n",
       "Time:                        23:13:46   Log-Likelihood:                 30.723\n",
       "No. Observations:                  16   AIC:                            -53.45\n",
       "Df Residuals:                      12   BIC:                            -50.36\n",
       "Df Model:                           3                                         \n",
       "Covariance Type:            nonrobust                                         \n",
       "==================================================================================================\n",
       "                                     coef    std err          t      P>|t|      [0.025      0.975]\n",
       "--------------------------------------------------------------------------------------------------\n",
       "Intercept                          0.0160      0.020      0.782      0.450      -0.029       0.061\n",
       "C(Protein)[T.-]                   -0.0151      0.029     -0.522      0.611      -0.078       0.048\n",
       "C(Target)[T.T]                     0.4286      0.029     14.799      0.000       0.365       0.492\n",
       "C(Protein)[T.-]:C(Target)[T.T]    -0.4285      0.041    -10.464      0.000      -0.518      -0.339\n",
       "==============================================================================\n",
       "Omnibus:                        8.645   Durbin-Watson:                   1.496\n",
       "Prob(Omnibus):                  0.013   Jarque-Bera (JB):                7.549\n",
       "Skew:                           0.576   Prob(JB):                       0.0230\n",
       "Kurtosis:                       6.162   Cond. No.                         6.85\n",
       "==============================================================================\n",
       "\n",
       "Warnings:\n",
       "[1] Standard Errors assume that the covariance matrix of the errors is correctly specified.\n",
       "\"\"\""
      ]
     },
     "execution_count": 196,
     "metadata": {},
     "output_type": "execute_result"
    }
   ],
   "source": [
    "model.summary()"
   ]
  },
  {
   "cell_type": "code",
   "execution_count": 197,
   "metadata": {},
   "outputs": [
    {
     "data": {
      "text/html": [
       "<div>\n",
       "<style scoped>\n",
       "    .dataframe tbody tr th:only-of-type {\n",
       "        vertical-align: middle;\n",
       "    }\n",
       "\n",
       "    .dataframe tbody tr th {\n",
       "        vertical-align: top;\n",
       "    }\n",
       "\n",
       "    .dataframe thead th {\n",
       "        text-align: right;\n",
       "    }\n",
       "</style>\n",
       "<table border=\"1\" class=\"dataframe\">\n",
       "  <thead>\n",
       "    <tr style=\"text-align: right;\">\n",
       "      <th></th>\n",
       "      <th>Protein</th>\n",
       "      <th>Target</th>\n",
       "      <th>Editing</th>\n",
       "    </tr>\n",
       "  </thead>\n",
       "  <tbody>\n",
       "  </tbody>\n",
       "</table>\n",
       "</div>"
      ],
      "text/plain": [
       "Empty DataFrame\n",
       "Columns: [Protein, Target, Editing]\n",
       "Index: []"
      ]
     },
     "execution_count": 197,
     "metadata": {},
     "output_type": "execute_result"
    }
   ],
   "source": [
    "df[(df['Protein'] == 0) & (df['Target'] == 1)]"
   ]
  },
  {
   "cell_type": "code",
   "execution_count": 198,
   "metadata": {},
   "outputs": [
    {
     "name": "stderr",
     "output_type": "stream",
     "text": [
      "/Users/altaeth/Installations/Anaconda/anaconda3/lib/python3.8/site-packages/numpy/core/fromnumeric.py:3583: RuntimeWarning: Degrees of freedom <= 0 for slice\n",
      "  return _methods._var(a, axis=axis, dtype=dtype, out=out, ddof=ddof,\n",
      "/Users/altaeth/Installations/Anaconda/anaconda3/lib/python3.8/site-packages/numpy/core/_methods.py:185: RuntimeWarning: invalid value encountered in true_divide\n",
      "  arrmean = um.true_divide(\n",
      "/Users/altaeth/Installations/Anaconda/anaconda3/lib/python3.8/site-packages/numpy/core/_methods.py:209: RuntimeWarning: invalid value encountered in double_scalars\n",
      "  ret = ret.dtype.type(ret / rcount)\n"
     ]
    },
    {
     "data": {
      "text/plain": [
       "nan"
      ]
     },
     "execution_count": 198,
     "metadata": {},
     "output_type": "execute_result"
    }
   ],
   "source": [
    "np.var(df[(df['Protein'] == 1) & (df['Target'] == 1)]['Editing'].values)"
   ]
  },
  {
   "cell_type": "code",
   "execution_count": 155,
   "metadata": {},
   "outputs": [
    {
     "data": {
      "text/plain": [
       "0.00072036875"
      ]
     },
     "execution_count": 155,
     "metadata": {},
     "output_type": "execute_result"
    }
   ],
   "source": [
    "np.mean(df[(df['Protein'] == 0)]['Editing'])"
   ]
  },
  {
   "cell_type": "code",
   "execution_count": 156,
   "metadata": {},
   "outputs": [
    {
     "data": {
      "text/plain": [
       "0.13105324375"
      ]
     },
     "execution_count": 156,
     "metadata": {},
     "output_type": "execute_result"
    }
   ],
   "source": [
    "np.mean(df[(df['Protein'] == 1)]['Editing'])"
   ]
  },
  {
   "cell_type": "code",
   "execution_count": 157,
   "metadata": {},
   "outputs": [
    {
     "data": {
      "text/plain": [
       "0.0035661625"
      ]
     },
     "execution_count": 157,
     "metadata": {},
     "output_type": "execute_result"
    }
   ],
   "source": [
    "np.mean(df[(df['Target'] == 0)]['Editing'])"
   ]
  },
  {
   "cell_type": "code",
   "execution_count": 158,
   "metadata": {},
   "outputs": [
    {
     "data": {
      "text/plain": [
       "0.12820745"
      ]
     },
     "execution_count": 158,
     "metadata": {},
     "output_type": "execute_result"
    }
   ],
   "source": [
    "np.mean(df[(df['Target'] == 1)]['Editing'])"
   ]
  },
  {
   "cell_type": "code",
   "execution_count": 200,
   "metadata": {},
   "outputs": [
    {
     "data": {
      "image/png": "[encoded data removed]",
      "text/plain": [
       "<Figure size 432x288 with 1 Axes>"
      ]
     },
     "metadata": {
      "needs_background": "light"
     },
     "output_type": "display_data"
    }
   ],
   "source": [
    "x = []\n",
    "y = []\n",
    "x.append(0)\n",
    "y.append(df[(df['Protein'] == 1) & (df['Target'] == 1)]['Editing'].values)\n",
    "\n",
    "x.append(1)\n",
    "y.append(df[(df['Protein'] == 1) & (df['Target'] == 0)]['Editing'].values)\n",
    "\n",
    "x.append(2)\n",
    "y.append(df[(df['Protein'] == 0) & (df['Target'] == 1)]['Editing'].values)\n",
    "\n",
    "x.append(3)\n",
    "y.append(df[(df['Protein'] == 0) & (df['Target'] == 0)]['Editing'].values)\n",
    "\n",
    "w = 0.1\n",
    "\n",
    "fig, ax = plt.subplots()\n",
    "ax.bar(x,\n",
    "       height=[np.mean(yi) for yi in y],\n",
    "       yerr=[np.std(yi) for yi in y],    # error bars\n",
    "       capsize=12, # error bar cap width in points\n",
    "       #width=w,    # bar width\n",
    "       tick_label=[\"+/T\", \"+/NT\", \"-/T\", \"-/NT\"],\n",
    "       color=(0,0,0,0),  # face color transparent\n",
    "       #edgecolor=colors,\n",
    "       #ecolor=colors,    # error bar colors; setting this raises an error for whatever reason.\n",
    "       )\n",
    "\n",
    "for i in range(len(x)):\n",
    "    # distribute scatter randomly across whole width of bar\n",
    "    ax.scatter(x[i] + np.random.random(y[i].size) * w - w / 2, y[i])\n"
   ]
  },
  {
   "cell_type": "code",
   "execution_count": 201,
   "metadata": {},
   "outputs": [
    {
     "data": {
      "text/plain": [
       "Ttest_indResult(statistic=nan, pvalue=nan)"
      ]
     },
     "execution_count": 201,
     "metadata": {},
     "output_type": "execute_result"
    }
   ],
   "source": [
    "\n",
    "\n",
    "scipy.stats.ttest_ind(df[(df['Protein'] == 1) & (df['Target'] == 1)]['Editing'],\n",
    "                      df[(df['Protein'] == 1) & (df['Target'] == 0)]['Editing'],\n",
    "                      equal_var=False)\n",
    "\n"
   ]
  },
  {
   "cell_type": "code",
   "execution_count": 206,
   "metadata": {},
   "outputs": [
    {
     "data": {
      "text/html": [
       "<table class=\"simpletable\">\n",
       "<caption>Multiple Comparison of Means - Tukey HSD, FWER=0.05</caption>\n",
       "<tr>\n",
       "  <th>group1</th> <th>group2</th> <th>meandiff</th> <th>p-adj</th>  <th>lower</th>   <th>upper</th>  <th>reject</th>\n",
       "</tr>\n",
       "<tr>\n",
       "   <td>+_NT</td>    <td>+_T</td>   <td>0.4286</td>  <td>0.001</td> <td>0.3426</td>  <td>0.5145</td>   <td>True</td> \n",
       "</tr>\n",
       "<tr>\n",
       "   <td>+_NT</td>   <td>-_NT</td>   <td>-0.0151</td>  <td>0.9</td>  <td>-0.1011</td> <td>0.0709</td>   <td>False</td>\n",
       "</tr>\n",
       "<tr>\n",
       "   <td>+_NT</td>    <td>-_T</td>   <td>-0.0151</td>  <td>0.9</td>  <td>-0.1011</td> <td>0.0709</td>   <td>False</td>\n",
       "</tr>\n",
       "<tr>\n",
       "    <td>+_T</td>   <td>-_NT</td>   <td>-0.4437</td> <td>0.001</td> <td>-0.5297</td> <td>-0.3577</td>  <td>True</td> \n",
       "</tr>\n",
       "<tr>\n",
       "    <td>+_T</td>    <td>-_T</td>   <td>-0.4437</td> <td>0.001</td> <td>-0.5296</td> <td>-0.3577</td>  <td>True</td> \n",
       "</tr>\n",
       "<tr>\n",
       "   <td>-_NT</td>    <td>-_T</td>     <td>0.0</td>    <td>0.9</td>  <td>-0.086</td>   <td>0.086</td>   <td>False</td>\n",
       "</tr>\n",
       "</table>"
      ],
      "text/plain": [
       "<class 'statsmodels.iolib.table.SimpleTable'>"
      ]
     },
     "execution_count": 206,
     "metadata": {},
     "output_type": "execute_result"
    }
   ],
   "source": [
    "labels = [str(u)+'_'+str(v) for u,v in zip(df['Protein'], df['Target'])]\n",
    "hsd_result = statsmodels.stats.multicomp.pairwise_tukeyhsd(df['Editing'],labels)\n",
    "hsd_result.summary()"
   ]
  },
  {
   "cell_type": "code",
   "execution_count": 203,
   "metadata": {},
   "outputs": [
    {
     "data": {
      "text/html": [
       "<div>\n",
       "<style scoped>\n",
       "    .dataframe tbody tr th:only-of-type {\n",
       "        vertical-align: middle;\n",
       "    }\n",
       "\n",
       "    .dataframe tbody tr th {\n",
       "        vertical-align: top;\n",
       "    }\n",
       "\n",
       "    .dataframe thead th {\n",
       "        text-align: right;\n",
       "    }\n",
       "</style>\n",
       "<table border=\"1\" class=\"dataframe\">\n",
       "  <thead>\n",
       "    <tr style=\"text-align: right;\">\n",
       "      <th></th>\n",
       "      <th>Protein</th>\n",
       "      <th>Target</th>\n",
       "      <th>Editing</th>\n",
       "    </tr>\n",
       "  </thead>\n",
       "  <tbody>\n",
       "    <tr>\n",
       "      <th>0</th>\n",
       "      <td>+</td>\n",
       "      <td>NT</td>\n",
       "      <td>0.009722</td>\n",
       "    </tr>\n",
       "    <tr>\n",
       "      <th>1</th>\n",
       "      <td>+</td>\n",
       "      <td>NT</td>\n",
       "      <td>0.016461</td>\n",
       "    </tr>\n",
       "    <tr>\n",
       "      <th>2</th>\n",
       "      <td>+</td>\n",
       "      <td>NT</td>\n",
       "      <td>0.017190</td>\n",
       "    </tr>\n",
       "    <tr>\n",
       "      <th>3</th>\n",
       "      <td>+</td>\n",
       "      <td>NT</td>\n",
       "      <td>0.020658</td>\n",
       "    </tr>\n",
       "    <tr>\n",
       "      <th>4</th>\n",
       "      <td>+</td>\n",
       "      <td>T</td>\n",
       "      <td>0.363039</td>\n",
       "    </tr>\n",
       "    <tr>\n",
       "      <th>5</th>\n",
       "      <td>+</td>\n",
       "      <td>T</td>\n",
       "      <td>0.396324</td>\n",
       "    </tr>\n",
       "    <tr>\n",
       "      <th>6</th>\n",
       "      <td>+</td>\n",
       "      <td>T</td>\n",
       "      <td>0.472937</td>\n",
       "    </tr>\n",
       "    <tr>\n",
       "      <th>7</th>\n",
       "      <td>+</td>\n",
       "      <td>T</td>\n",
       "      <td>0.545977</td>\n",
       "    </tr>\n",
       "    <tr>\n",
       "      <th>8</th>\n",
       "      <td>-</td>\n",
       "      <td>NT</td>\n",
       "      <td>0.000782</td>\n",
       "    </tr>\n",
       "    <tr>\n",
       "      <th>9</th>\n",
       "      <td>-</td>\n",
       "      <td>NT</td>\n",
       "      <td>0.000833</td>\n",
       "    </tr>\n",
       "    <tr>\n",
       "      <th>10</th>\n",
       "      <td>-</td>\n",
       "      <td>NT</td>\n",
       "      <td>0.000855</td>\n",
       "    </tr>\n",
       "    <tr>\n",
       "      <th>11</th>\n",
       "      <td>-</td>\n",
       "      <td>NT</td>\n",
       "      <td>0.001075</td>\n",
       "    </tr>\n",
       "    <tr>\n",
       "      <th>12</th>\n",
       "      <td>-</td>\n",
       "      <td>T</td>\n",
       "      <td>0.000000</td>\n",
       "    </tr>\n",
       "    <tr>\n",
       "      <th>13</th>\n",
       "      <td>-</td>\n",
       "      <td>T</td>\n",
       "      <td>0.000852</td>\n",
       "    </tr>\n",
       "    <tr>\n",
       "      <th>14</th>\n",
       "      <td>-</td>\n",
       "      <td>T</td>\n",
       "      <td>0.001220</td>\n",
       "    </tr>\n",
       "    <tr>\n",
       "      <th>15</th>\n",
       "      <td>-</td>\n",
       "      <td>T</td>\n",
       "      <td>0.001565</td>\n",
       "    </tr>\n",
       "  </tbody>\n",
       "</table>\n",
       "</div>"
      ],
      "text/plain": [
       "   Protein Target   Editing\n",
       "0        +     NT  0.009722\n",
       "1        +     NT  0.016461\n",
       "2        +     NT  0.017190\n",
       "3        +     NT  0.020658\n",
       "4        +      T  0.363039\n",
       "5        +      T  0.396324\n",
       "6        +      T  0.472937\n",
       "7        +      T  0.545977\n",
       "8        -     NT  0.000782\n",
       "9        -     NT  0.000833\n",
       "10       -     NT  0.000855\n",
       "11       -     NT  0.001075\n",
       "12       -      T  0.000000\n",
       "13       -      T  0.000852\n",
       "14       -      T  0.001220\n",
       "15       -      T  0.001565"
      ]
     },
     "execution_count": 203,
     "metadata": {},
     "output_type": "execute_result"
    }
   ],
   "source": [
    "df"
   ]
  },
  {
   "cell_type": "code",
   "execution_count": 205,
   "metadata": {},
   "outputs": [
    {
     "data": {
      "text/plain": [
       "[(0.00972222, '+_NT'),\n",
       " (0.01646091, '+_NT'),\n",
       " (0.01718984, '+_NT'),\n",
       " (0.02065849, '+_NT'),\n",
       " (0.36303871, '+_T'),\n",
       " (0.39632353, '+_T'),\n",
       " (0.472937, '+_T'),\n",
       " (0.54597701, '+_T'),\n",
       " (0.00078186, '-_NT'),\n",
       " (0.00083264, '-_NT'),\n",
       " (0.00085543, '-_NT'),\n",
       " (0.00107527, '-_NT'),\n",
       " (0.0, '-_T'),\n",
       " (0.00085179, '-_T'),\n",
       " (0.00122026, '-_T'),\n",
       " (0.00156495, '-_T')]"
      ]
     },
     "execution_count": 205,
     "metadata": {},
     "output_type": "execute_result"
    }
   ],
   "source": [
    "list(zip(df['Editing'],labels))"
   ]
  },
  {
   "cell_type": "code",
   "execution_count": null,
   "metadata": {},
   "outputs": [],
   "source": []
  }
 ],
 "metadata": {
  "kernelspec": {
   "display_name": "Python 3",
   "language": "python",
   "name": "python3"
  },
  "language_info": {
   "codemirror_mode": {
    "name": "ipython",
    "version": 3
   },
   "file_extension": ".py",
   "mimetype": "text/x-python",
   "name": "python",
   "nbconvert_exporter": "python",
   "pygments_lexer": "ipython3",
   "version": "3.8.3"
  }
 },
 "nbformat": 4,
 "nbformat_minor": 4
}
