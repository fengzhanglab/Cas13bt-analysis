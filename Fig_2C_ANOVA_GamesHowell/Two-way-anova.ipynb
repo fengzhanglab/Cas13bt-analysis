{
 "cells": [
  {
   "cell_type": "code",
   "execution_count": 237,
   "metadata": {},
   "outputs": [],
   "source": [
    "import statsmodels.api as sm\n",
    "import matplotlib \n",
    "import scipy.stats\n",
    "import matplotlib.pyplot as plt\n",
    "import pandas as pd\n",
    "import numpy as np\n",
    "import pingouin\n",
    "from statsmodels.formula.api import ols"
   ]
  },
  {
   "cell_type": "code",
   "execution_count": 47,
   "metadata": {},
   "outputs": [
    {
     "data": {
      "text/plain": [
       "Index(['Unnamed: 0', 'Cluc_W85X_1', 'Cluc_W85X_2', 'Cluc_W85X_3',\n",
       "       'Cluc_W85X_4', 'CTNNB1_T41A_1', 'CTNNB1_T41A_2', 'CTNNB1_T41A_3',\n",
       "       'CTNNB1_T41A_4', 'STAT1_Y701C_1', 'STAT1_Y701C_2', 'STAT1_Y701C_3',\n",
       "       'STAT1_Y701C_4', 'STAT3_Y705C_1', 'STAT3_Y705C_2', 'STAT3_Y705C_3',\n",
       "       'STAT3_Y705C_4', 'LATS1_T1079A_1', 'LATS1_T1079A_2', 'LATS1_T1079A_3',\n",
       "       'LATS1_T1079A_4', 'Gluc_R82C_1', 'Gluc_R82C_2', 'Gluc_R82C_3',\n",
       "       'Gluc_R82C_4', 'CTNNB1_T41I_1', 'CTNNB1_T41I_2', 'CTNNB1_T41I_3',\n",
       "       'CTNNB1_T41I_4', 'KRAS_D30D_1', 'KRAS_D30D_2', 'KRAS_D30D_3',\n",
       "       'KRAS_D30D_4', 'KRAS_L56L_1', 'KRAS_L56L_2', 'KRAS_L56L_3',\n",
       "       'KRAS_L56L_4'],\n",
       "      dtype='object')"
      ]
     },
     "execution_count": 47,
     "metadata": {},
     "output_type": "execute_result"
    }
   ],
   "source": [
    "df_data = pd.read_csv('./210312_Fig2C_Data.csv')\n",
    "df_data.columns"
   ]
  },
  {
   "cell_type": "code",
   "execution_count": 240,
   "metadata": {},
   "outputs": [],
   "source": [
    "writer = pd.ExcelWriter('Fig2c_statistical_analysis.xlsx', engine='xlsxwriter')\n",
    "\n",
    "var_list = ['Cluc_W85X','CTNNB1_T41A','STAT1_Y701C','STAT3_Y705C','LATS1_T1079A','Gluc_R82C','CTNNB1_T41I',\n",
    "           'KRAS_D30D','KRAS_L56L']\n",
    "for var in var_list:\n",
    "    zip_order = [(1,1),\n",
    "                (1,0),\n",
    "                (0,1),\n",
    "                (0,0)]\n",
    "    zip_order = [('+bt1','T'),\n",
    "                ('+bt1','NT'),\n",
    "                ('-bt1','T'),\n",
    "                ('-bt1','NT')]\n",
    "    df = pd.DataFrame(data=sorted([u + (v,) for i in range(1,5) for u,v in \n",
    "                                   zip(zip_order, df_data[var+'_'+str(i)].values)]),\n",
    "                 columns=['Protein','Targeting','Editing'])\n",
    "    labels = [str(u)+'_'+str(v) for u,v in zip(df['Protein'], df['Targeting'])]\n",
    "    df['Labels'] = labels\n",
    "\n",
    "    # Two-way ANOVA, starting with OLS fit\n",
    "    model = ols('Editing ~ C(Protein) + C(Targeting) + C(Protein):C(Targeting)', data=df).fit()\n",
    "    aov_table = sm.stats.anova_lm(model, typ=2)\n",
    "\n",
    "    # Perform Games-Howell posthoc pairwise analysis\n",
    "    gh_result = pingouin.pairwise_gameshowell(df,'Editing','Labels')\n",
    "\n",
    "    aov_table.to_excel(writer, sheet_name=var+'_ANOVA')\n",
    "    gh_result.to_excel(writer, sheet_name=var+'_GamesHowell')\n",
    "\n",
    "# Close the Pandas Excel writer\n",
    "writer.save()"
   ]
  },
  {
   "cell_type": "code",
   "execution_count": 241,
   "metadata": {},
   "outputs": [
    {
     "data": {
      "text/html": [
       "<div>\n",
       "<style scoped>\n",
       "    .dataframe tbody tr th:only-of-type {\n",
       "        vertical-align: middle;\n",
       "    }\n",
       "\n",
       "    .dataframe tbody tr th {\n",
       "        vertical-align: top;\n",
       "    }\n",
       "\n",
       "    .dataframe thead th {\n",
       "        text-align: right;\n",
       "    }\n",
       "</style>\n",
       "<table border=\"1\" class=\"dataframe\">\n",
       "  <thead>\n",
       "    <tr style=\"text-align: right;\">\n",
       "      <th></th>\n",
       "      <th>A</th>\n",
       "      <th>B</th>\n",
       "      <th>mean(A)</th>\n",
       "      <th>mean(B)</th>\n",
       "      <th>diff</th>\n",
       "      <th>se</th>\n",
       "      <th>T</th>\n",
       "      <th>df</th>\n",
       "      <th>pval</th>\n",
       "      <th>hedges</th>\n",
       "    </tr>\n",
       "  </thead>\n",
       "  <tbody>\n",
       "    <tr>\n",
       "      <th>0</th>\n",
       "      <td>+bt1_NT</td>\n",
       "      <td>+bt1_T</td>\n",
       "      <td>0.000486</td>\n",
       "      <td>0.040020</td>\n",
       "      <td>-0.039534</td>\n",
       "      <td>0.003334</td>\n",
       "      <td>-11.859427</td>\n",
       "      <td>3.006132</td>\n",
       "      <td>0.003904</td>\n",
       "      <td>-7.292070</td>\n",
       "    </tr>\n",
       "    <tr>\n",
       "      <th>1</th>\n",
       "      <td>+bt1_NT</td>\n",
       "      <td>-bt1_NT</td>\n",
       "      <td>0.000486</td>\n",
       "      <td>0.000266</td>\n",
       "      <td>0.000220</td>\n",
       "      <td>0.000111</td>\n",
       "      <td>1.985041</td>\n",
       "      <td>3.479878</td>\n",
       "      <td>0.341550</td>\n",
       "      <td>1.220553</td>\n",
       "    </tr>\n",
       "    <tr>\n",
       "      <th>2</th>\n",
       "      <td>+bt1_NT</td>\n",
       "      <td>-bt1_T</td>\n",
       "      <td>0.000486</td>\n",
       "      <td>0.000418</td>\n",
       "      <td>0.000068</td>\n",
       "      <td>0.000135</td>\n",
       "      <td>0.504632</td>\n",
       "      <td>5.642642</td>\n",
       "      <td>0.900000</td>\n",
       "      <td>0.310286</td>\n",
       "    </tr>\n",
       "    <tr>\n",
       "      <th>3</th>\n",
       "      <td>+bt1_T</td>\n",
       "      <td>-bt1_NT</td>\n",
       "      <td>0.040020</td>\n",
       "      <td>0.000266</td>\n",
       "      <td>0.039754</td>\n",
       "      <td>0.003332</td>\n",
       "      <td>11.930961</td>\n",
       "      <td>3.000494</td>\n",
       "      <td>0.003867</td>\n",
       "      <td>7.336055</td>\n",
       "    </tr>\n",
       "    <tr>\n",
       "      <th>4</th>\n",
       "      <td>+bt1_T</td>\n",
       "      <td>-bt1_T</td>\n",
       "      <td>0.040020</td>\n",
       "      <td>0.000418</td>\n",
       "      <td>0.039602</td>\n",
       "      <td>0.003333</td>\n",
       "      <td>11.882249</td>\n",
       "      <td>3.003666</td>\n",
       "      <td>0.003897</td>\n",
       "      <td>7.306103</td>\n",
       "    </tr>\n",
       "    <tr>\n",
       "      <th>5</th>\n",
       "      <td>-bt1_NT</td>\n",
       "      <td>-bt1_T</td>\n",
       "      <td>0.000266</td>\n",
       "      <td>0.000418</td>\n",
       "      <td>-0.000152</td>\n",
       "      <td>0.000088</td>\n",
       "      <td>-1.730736</td>\n",
       "      <td>3.793449</td>\n",
       "      <td>0.421387</td>\n",
       "      <td>-1.064187</td>\n",
       "    </tr>\n",
       "  </tbody>\n",
       "</table>\n",
       "</div>"
      ],
      "text/plain": [
       "         A        B   mean(A)   mean(B)      diff        se          T  \\\n",
       "0  +bt1_NT   +bt1_T  0.000486  0.040020 -0.039534  0.003334 -11.859427   \n",
       "1  +bt1_NT  -bt1_NT  0.000486  0.000266  0.000220  0.000111   1.985041   \n",
       "2  +bt1_NT   -bt1_T  0.000486  0.000418  0.000068  0.000135   0.504632   \n",
       "3   +bt1_T  -bt1_NT  0.040020  0.000266  0.039754  0.003332  11.930961   \n",
       "4   +bt1_T   -bt1_T  0.040020  0.000418  0.039602  0.003333  11.882249   \n",
       "5  -bt1_NT   -bt1_T  0.000266  0.000418 -0.000152  0.000088  -1.730736   \n",
       "\n",
       "         df      pval    hedges  \n",
       "0  3.006132  0.003904 -7.292070  \n",
       "1  3.479878  0.341550  1.220553  \n",
       "2  5.642642  0.900000  0.310286  \n",
       "3  3.000494  0.003867  7.336055  \n",
       "4  3.003666  0.003897  7.306103  \n",
       "5  3.793449  0.421387 -1.064187  "
      ]
     },
     "execution_count": 241,
     "metadata": {},
     "output_type": "execute_result"
    }
   ],
   "source": [
    "gh_result"
   ]
  },
  {
   "cell_type": "code",
   "execution_count": null,
   "metadata": {},
   "outputs": [],
   "source": []
  },
  {
   "cell_type": "code",
   "execution_count": 218,
   "metadata": {},
   "outputs": [
    {
     "data": {
      "text/html": [
       "<div>\n",
       "<style scoped>\n",
       "    .dataframe tbody tr th:only-of-type {\n",
       "        vertical-align: middle;\n",
       "    }\n",
       "\n",
       "    .dataframe tbody tr th {\n",
       "        vertical-align: top;\n",
       "    }\n",
       "\n",
       "    .dataframe thead th {\n",
       "        text-align: right;\n",
       "    }\n",
       "</style>\n",
       "<table border=\"1\" class=\"dataframe\">\n",
       "  <thead>\n",
       "    <tr style=\"text-align: right;\">\n",
       "      <th></th>\n",
       "      <th>Protein</th>\n",
       "      <th>Target</th>\n",
       "      <th>Editing</th>\n",
       "      <th>Labels</th>\n",
       "    </tr>\n",
       "  </thead>\n",
       "  <tbody>\n",
       "  </tbody>\n",
       "</table>\n",
       "</div>"
      ],
      "text/plain": [
       "Empty DataFrame\n",
       "Columns: [Protein, Target, Editing, Labels]\n",
       "Index: []"
      ]
     },
     "execution_count": 218,
     "metadata": {},
     "output_type": "execute_result"
    }
   ],
   "source": [
    "df[(df['Protein'] == 0) & (df['Target'] == 1)]"
   ]
  },
  {
   "cell_type": "code",
   "execution_count": 198,
   "metadata": {},
   "outputs": [
    {
     "name": "stderr",
     "output_type": "stream",
     "text": [
      "/Users/altaeth/Installations/Anaconda/anaconda3/lib/python3.8/site-packages/numpy/core/fromnumeric.py:3583: RuntimeWarning: Degrees of freedom <= 0 for slice\n",
      "  return _methods._var(a, axis=axis, dtype=dtype, out=out, ddof=ddof,\n",
      "/Users/altaeth/Installations/Anaconda/anaconda3/lib/python3.8/site-packages/numpy/core/_methods.py:185: RuntimeWarning: invalid value encountered in true_divide\n",
      "  arrmean = um.true_divide(\n",
      "/Users/altaeth/Installations/Anaconda/anaconda3/lib/python3.8/site-packages/numpy/core/_methods.py:209: RuntimeWarning: invalid value encountered in double_scalars\n",
      "  ret = ret.dtype.type(ret / rcount)\n"
     ]
    },
    {
     "data": {
      "text/plain": [
       "nan"
      ]
     },
     "execution_count": 198,
     "metadata": {},
     "output_type": "execute_result"
    }
   ],
   "source": [
    "np.var(df[(df['Protein'] == 1) & (df['Target'] == 1)]['Editing'].values)"
   ]
  },
  {
   "cell_type": "code",
   "execution_count": 155,
   "metadata": {},
   "outputs": [
    {
     "data": {
      "text/plain": [
       "0.00072036875"
      ]
     },
     "execution_count": 155,
     "metadata": {},
     "output_type": "execute_result"
    }
   ],
   "source": [
    "np.mean(df[(df['Protein'] == 0)]['Editing'])"
   ]
  },
  {
   "cell_type": "code",
   "execution_count": 156,
   "metadata": {},
   "outputs": [
    {
     "data": {
      "text/plain": [
       "0.13105324375"
      ]
     },
     "execution_count": 156,
     "metadata": {},
     "output_type": "execute_result"
    }
   ],
   "source": [
    "np.mean(df[(df['Protein'] == 1)]['Editing'])"
   ]
  },
  {
   "cell_type": "code",
   "execution_count": 157,
   "metadata": {},
   "outputs": [
    {
     "data": {
      "text/plain": [
       "0.0035661625"
      ]
     },
     "execution_count": 157,
     "metadata": {},
     "output_type": "execute_result"
    }
   ],
   "source": [
    "np.mean(df[(df['Target'] == 0)]['Editing'])"
   ]
  },
  {
   "cell_type": "code",
   "execution_count": 214,
   "metadata": {},
   "outputs": [
    {
     "data": {
      "text/plain": [
       "nan"
      ]
     },
     "execution_count": 214,
     "metadata": {},
     "output_type": "execute_result"
    }
   ],
   "source": [
    "np.mean(df[(df['Target'] == 1)]['Editing'])"
   ]
  },
  {
   "cell_type": "code",
   "execution_count": 235,
   "metadata": {},
   "outputs": [
    {
     "ename": "KeyError",
     "evalue": "'Target'",
     "output_type": "error",
     "traceback": [
      "\u001b[0;31m---------------------------------------------------------------------------\u001b[0m",
      "\u001b[0;31mKeyError\u001b[0m                                  Traceback (most recent call last)",
      "\u001b[0;32m~/Installations/Anaconda/anaconda3/lib/python3.8/site-packages/pandas/core/indexes/base.py\u001b[0m in \u001b[0;36mget_loc\u001b[0;34m(self, key, method, tolerance)\u001b[0m\n\u001b[1;32m   2645\u001b[0m             \u001b[0;32mtry\u001b[0m\u001b[0;34m:\u001b[0m\u001b[0;34m\u001b[0m\u001b[0;34m\u001b[0m\u001b[0m\n\u001b[0;32m-> 2646\u001b[0;31m                 \u001b[0;32mreturn\u001b[0m \u001b[0mself\u001b[0m\u001b[0;34m.\u001b[0m\u001b[0m_engine\u001b[0m\u001b[0;34m.\u001b[0m\u001b[0mget_loc\u001b[0m\u001b[0;34m(\u001b[0m\u001b[0mkey\u001b[0m\u001b[0;34m)\u001b[0m\u001b[0;34m\u001b[0m\u001b[0;34m\u001b[0m\u001b[0m\n\u001b[0m\u001b[1;32m   2647\u001b[0m             \u001b[0;32mexcept\u001b[0m \u001b[0mKeyError\u001b[0m\u001b[0;34m:\u001b[0m\u001b[0;34m\u001b[0m\u001b[0;34m\u001b[0m\u001b[0m\n",
      "\u001b[0;32mpandas/_libs/index.pyx\u001b[0m in \u001b[0;36mpandas._libs.index.IndexEngine.get_loc\u001b[0;34m()\u001b[0m\n",
      "\u001b[0;32mpandas/_libs/index.pyx\u001b[0m in \u001b[0;36mpandas._libs.index.IndexEngine.get_loc\u001b[0;34m()\u001b[0m\n",
      "\u001b[0;32mpandas/_libs/hashtable_class_helper.pxi\u001b[0m in \u001b[0;36mpandas._libs.hashtable.PyObjectHashTable.get_item\u001b[0;34m()\u001b[0m\n",
      "\u001b[0;32mpandas/_libs/hashtable_class_helper.pxi\u001b[0m in \u001b[0;36mpandas._libs.hashtable.PyObjectHashTable.get_item\u001b[0;34m()\u001b[0m\n",
      "\u001b[0;31mKeyError\u001b[0m: 'Target'",
      "\nDuring handling of the above exception, another exception occurred:\n",
      "\u001b[0;31mKeyError\u001b[0m                                  Traceback (most recent call last)",
      "\u001b[0;32m<ipython-input-235-aafd62f804bb>\u001b[0m in \u001b[0;36m<module>\u001b[0;34m\u001b[0m\n\u001b[1;32m      2\u001b[0m \u001b[0my\u001b[0m \u001b[0;34m=\u001b[0m \u001b[0;34m[\u001b[0m\u001b[0;34m]\u001b[0m\u001b[0;34m\u001b[0m\u001b[0;34m\u001b[0m\u001b[0m\n\u001b[1;32m      3\u001b[0m \u001b[0mx\u001b[0m\u001b[0;34m.\u001b[0m\u001b[0mappend\u001b[0m\u001b[0;34m(\u001b[0m\u001b[0;36m0\u001b[0m\u001b[0;34m)\u001b[0m\u001b[0;34m\u001b[0m\u001b[0;34m\u001b[0m\u001b[0m\n\u001b[0;32m----> 4\u001b[0;31m \u001b[0my\u001b[0m\u001b[0;34m.\u001b[0m\u001b[0mappend\u001b[0m\u001b[0;34m(\u001b[0m\u001b[0mdf\u001b[0m\u001b[0;34m[\u001b[0m\u001b[0;34m(\u001b[0m\u001b[0mdf\u001b[0m\u001b[0;34m[\u001b[0m\u001b[0;34m'Protein'\u001b[0m\u001b[0;34m]\u001b[0m \u001b[0;34m==\u001b[0m \u001b[0;34m\"+\"\u001b[0m\u001b[0;34m)\u001b[0m \u001b[0;34m&\u001b[0m \u001b[0;34m(\u001b[0m\u001b[0mdf\u001b[0m\u001b[0;34m[\u001b[0m\u001b[0;34m'Target'\u001b[0m\u001b[0;34m]\u001b[0m \u001b[0;34m==\u001b[0m \u001b[0;34m\"T\"\u001b[0m\u001b[0;34m)\u001b[0m\u001b[0;34m]\u001b[0m\u001b[0;34m[\u001b[0m\u001b[0;34m'Editing'\u001b[0m\u001b[0;34m]\u001b[0m\u001b[0;34m.\u001b[0m\u001b[0mvalues\u001b[0m\u001b[0;34m)\u001b[0m\u001b[0;34m\u001b[0m\u001b[0;34m\u001b[0m\u001b[0m\n\u001b[0m\u001b[1;32m      5\u001b[0m \u001b[0;34m\u001b[0m\u001b[0m\n\u001b[1;32m      6\u001b[0m \u001b[0mx\u001b[0m\u001b[0;34m.\u001b[0m\u001b[0mappend\u001b[0m\u001b[0;34m(\u001b[0m\u001b[0;36m1\u001b[0m\u001b[0;34m)\u001b[0m\u001b[0;34m\u001b[0m\u001b[0;34m\u001b[0m\u001b[0m\n",
      "\u001b[0;32m~/Installations/Anaconda/anaconda3/lib/python3.8/site-packages/pandas/core/frame.py\u001b[0m in \u001b[0;36m__getitem__\u001b[0;34m(self, key)\u001b[0m\n\u001b[1;32m   2798\u001b[0m             \u001b[0;32mif\u001b[0m \u001b[0mself\u001b[0m\u001b[0;34m.\u001b[0m\u001b[0mcolumns\u001b[0m\u001b[0;34m.\u001b[0m\u001b[0mnlevels\u001b[0m \u001b[0;34m>\u001b[0m \u001b[0;36m1\u001b[0m\u001b[0;34m:\u001b[0m\u001b[0;34m\u001b[0m\u001b[0;34m\u001b[0m\u001b[0m\n\u001b[1;32m   2799\u001b[0m                 \u001b[0;32mreturn\u001b[0m \u001b[0mself\u001b[0m\u001b[0;34m.\u001b[0m\u001b[0m_getitem_multilevel\u001b[0m\u001b[0;34m(\u001b[0m\u001b[0mkey\u001b[0m\u001b[0;34m)\u001b[0m\u001b[0;34m\u001b[0m\u001b[0;34m\u001b[0m\u001b[0m\n\u001b[0;32m-> 2800\u001b[0;31m             \u001b[0mindexer\u001b[0m \u001b[0;34m=\u001b[0m \u001b[0mself\u001b[0m\u001b[0;34m.\u001b[0m\u001b[0mcolumns\u001b[0m\u001b[0;34m.\u001b[0m\u001b[0mget_loc\u001b[0m\u001b[0;34m(\u001b[0m\u001b[0mkey\u001b[0m\u001b[0;34m)\u001b[0m\u001b[0;34m\u001b[0m\u001b[0;34m\u001b[0m\u001b[0m\n\u001b[0m\u001b[1;32m   2801\u001b[0m             \u001b[0;32mif\u001b[0m \u001b[0mis_integer\u001b[0m\u001b[0;34m(\u001b[0m\u001b[0mindexer\u001b[0m\u001b[0;34m)\u001b[0m\u001b[0;34m:\u001b[0m\u001b[0;34m\u001b[0m\u001b[0;34m\u001b[0m\u001b[0m\n\u001b[1;32m   2802\u001b[0m                 \u001b[0mindexer\u001b[0m \u001b[0;34m=\u001b[0m \u001b[0;34m[\u001b[0m\u001b[0mindexer\u001b[0m\u001b[0;34m]\u001b[0m\u001b[0;34m\u001b[0m\u001b[0;34m\u001b[0m\u001b[0m\n",
      "\u001b[0;32m~/Installations/Anaconda/anaconda3/lib/python3.8/site-packages/pandas/core/indexes/base.py\u001b[0m in \u001b[0;36mget_loc\u001b[0;34m(self, key, method, tolerance)\u001b[0m\n\u001b[1;32m   2646\u001b[0m                 \u001b[0;32mreturn\u001b[0m \u001b[0mself\u001b[0m\u001b[0;34m.\u001b[0m\u001b[0m_engine\u001b[0m\u001b[0;34m.\u001b[0m\u001b[0mget_loc\u001b[0m\u001b[0;34m(\u001b[0m\u001b[0mkey\u001b[0m\u001b[0;34m)\u001b[0m\u001b[0;34m\u001b[0m\u001b[0;34m\u001b[0m\u001b[0m\n\u001b[1;32m   2647\u001b[0m             \u001b[0;32mexcept\u001b[0m \u001b[0mKeyError\u001b[0m\u001b[0;34m:\u001b[0m\u001b[0;34m\u001b[0m\u001b[0;34m\u001b[0m\u001b[0m\n\u001b[0;32m-> 2648\u001b[0;31m                 \u001b[0;32mreturn\u001b[0m \u001b[0mself\u001b[0m\u001b[0;34m.\u001b[0m\u001b[0m_engine\u001b[0m\u001b[0;34m.\u001b[0m\u001b[0mget_loc\u001b[0m\u001b[0;34m(\u001b[0m\u001b[0mself\u001b[0m\u001b[0;34m.\u001b[0m\u001b[0m_maybe_cast_indexer\u001b[0m\u001b[0;34m(\u001b[0m\u001b[0mkey\u001b[0m\u001b[0;34m)\u001b[0m\u001b[0;34m)\u001b[0m\u001b[0;34m\u001b[0m\u001b[0;34m\u001b[0m\u001b[0m\n\u001b[0m\u001b[1;32m   2649\u001b[0m         \u001b[0mindexer\u001b[0m \u001b[0;34m=\u001b[0m \u001b[0mself\u001b[0m\u001b[0;34m.\u001b[0m\u001b[0mget_indexer\u001b[0m\u001b[0;34m(\u001b[0m\u001b[0;34m[\u001b[0m\u001b[0mkey\u001b[0m\u001b[0;34m]\u001b[0m\u001b[0;34m,\u001b[0m \u001b[0mmethod\u001b[0m\u001b[0;34m=\u001b[0m\u001b[0mmethod\u001b[0m\u001b[0;34m,\u001b[0m \u001b[0mtolerance\u001b[0m\u001b[0;34m=\u001b[0m\u001b[0mtolerance\u001b[0m\u001b[0;34m)\u001b[0m\u001b[0;34m\u001b[0m\u001b[0;34m\u001b[0m\u001b[0m\n\u001b[1;32m   2650\u001b[0m         \u001b[0;32mif\u001b[0m \u001b[0mindexer\u001b[0m\u001b[0;34m.\u001b[0m\u001b[0mndim\u001b[0m \u001b[0;34m>\u001b[0m \u001b[0;36m1\u001b[0m \u001b[0;32mor\u001b[0m \u001b[0mindexer\u001b[0m\u001b[0;34m.\u001b[0m\u001b[0msize\u001b[0m \u001b[0;34m>\u001b[0m \u001b[0;36m1\u001b[0m\u001b[0;34m:\u001b[0m\u001b[0;34m\u001b[0m\u001b[0;34m\u001b[0m\u001b[0m\n",
      "\u001b[0;32mpandas/_libs/index.pyx\u001b[0m in \u001b[0;36mpandas._libs.index.IndexEngine.get_loc\u001b[0;34m()\u001b[0m\n",
      "\u001b[0;32mpandas/_libs/index.pyx\u001b[0m in \u001b[0;36mpandas._libs.index.IndexEngine.get_loc\u001b[0;34m()\u001b[0m\n",
      "\u001b[0;32mpandas/_libs/hashtable_class_helper.pxi\u001b[0m in \u001b[0;36mpandas._libs.hashtable.PyObjectHashTable.get_item\u001b[0;34m()\u001b[0m\n",
      "\u001b[0;32mpandas/_libs/hashtable_class_helper.pxi\u001b[0m in \u001b[0;36mpandas._libs.hashtable.PyObjectHashTable.get_item\u001b[0;34m()\u001b[0m\n",
      "\u001b[0;31mKeyError\u001b[0m: 'Target'"
     ]
    }
   ],
   "source": [
    "x = []\n",
    "y = []\n",
    "x.append(0)\n",
    "y.append(df[(df['Protein'] == \"+\") & (df['Targeting'] == \"T\")]['Editing'].values)\n",
    "\n",
    "x.append(1)\n",
    "y.append(df[(df['Protein'] == \"+\") & (df['Targeting'] == \"NT\")]['Editing'].values)\n",
    "\n",
    "x.append(2)\n",
    "y.append(df[(df['Protein'] == \"-\") & (df['Targeting'] == \"T\")]['Editing'].values)\n",
    "\n",
    "x.append(3)\n",
    "y.append(df[(df['Protein'] == \"-\") & (df['Targeting'] == \"NT\")]['Editing'].values)\n",
    "\n",
    "w = 0.1\n",
    "\n",
    "fig, ax = plt.subplots()\n",
    "ax.bar(x,\n",
    "       height=[np.mean(yi) for yi in y],\n",
    "       yerr=[np.std(yi) for yi in y],    # error bars\n",
    "       capsize=12, # error bar cap width in points\n",
    "       #width=w,    # bar width\n",
    "       tick_label=[\"+/T\", \"+/NT\", \"-/T\", \"-/NT\"],\n",
    "       color=(0,0,0,0),  # face color transparent\n",
    "       #edgecolor=colors,\n",
    "       #ecolor=colors,    # error bar colors; setting this raises an error for whatever reason.\n",
    "       )\n",
    "\n",
    "for i in range(len(x)):\n",
    "    # distribute scatter randomly across whole width of bar\n",
    "    ax.scatter(x[i] + np.random.random(y[i].size) * w - w / 2, y[i])\n"
   ]
  },
  {
   "cell_type": "code",
   "execution_count": 201,
   "metadata": {},
   "outputs": [
    {
     "data": {
      "text/plain": [
       "Ttest_indResult(statistic=nan, pvalue=nan)"
      ]
     },
     "execution_count": 201,
     "metadata": {},
     "output_type": "execute_result"
    }
   ],
   "source": [
    "\n",
    "\n",
    "scipy.stats.ttest_ind(df[(df['Protein'] == 1) & (df['Target'] == 1)]['Editing'],\n",
    "                      df[(df['Protein'] == 1) & (df['Target'] == 0)]['Editing'],\n",
    "                      equal_var=False)\n",
    "\n"
   ]
  },
  {
   "cell_type": "code",
   "execution_count": 220,
   "metadata": {},
   "outputs": [
    {
     "data": {
      "text/html": [
       "<table class=\"simpletable\">\n",
       "<caption>Multiple Comparison of Means - Tukey HSD, FWER=0.05</caption>\n",
       "<tr>\n",
       "  <th>group1</th> <th>group2</th> <th>meandiff</th> <th>p-adj</th>  <th>lower</th>   <th>upper</th>  <th>reject</th>\n",
       "</tr>\n",
       "<tr>\n",
       "   <td>+_NT</td>    <td>+_T</td>   <td>0.1367</td>  <td>0.001</td> <td>0.1126</td>  <td>0.1608</td>   <td>True</td> \n",
       "</tr>\n",
       "<tr>\n",
       "   <td>+_NT</td>   <td>-_NT</td>   <td>-0.0659</td> <td>0.001</td> <td>-0.0901</td> <td>-0.0418</td>  <td>True</td> \n",
       "</tr>\n",
       "<tr>\n",
       "   <td>+_NT</td>    <td>-_T</td>   <td>-0.0659</td> <td>0.001</td> <td>-0.0901</td> <td>-0.0418</td>  <td>True</td> \n",
       "</tr>\n",
       "<tr>\n",
       "    <td>+_T</td>   <td>-_NT</td>   <td>-0.2026</td> <td>0.001</td> <td>-0.2267</td> <td>-0.1785</td>  <td>True</td> \n",
       "</tr>\n",
       "<tr>\n",
       "    <td>+_T</td>    <td>-_T</td>   <td>-0.2026</td> <td>0.001</td> <td>-0.2267</td> <td>-0.1785</td>  <td>True</td> \n",
       "</tr>\n",
       "<tr>\n",
       "   <td>-_NT</td>    <td>-_T</td>     <td>0.0</td>    <td>0.9</td>  <td>-0.0241</td> <td>0.0241</td>   <td>False</td>\n",
       "</tr>\n",
       "</table>"
      ],
      "text/plain": [
       "<class 'statsmodels.iolib.table.SimpleTable'>"
      ]
     },
     "execution_count": 220,
     "metadata": {},
     "output_type": "execute_result"
    }
   ],
   "source": [
    "labels = [str(u)+'_'+str(v) for u,v in zip(df['Protein'], df['Target'])]\n",
    "hsd_result = statsmodels.stats.multicomp.pairwise_tukeyhsd(df['Editing'],labels)\n",
    "hsd_result.summary()"
   ]
  },
  {
   "cell_type": "code",
   "execution_count": 203,
   "metadata": {},
   "outputs": [
    {
     "data": {
      "text/html": [
       "<div>\n",
       "<style scoped>\n",
       "    .dataframe tbody tr th:only-of-type {\n",
       "        vertical-align: middle;\n",
       "    }\n",
       "\n",
       "    .dataframe tbody tr th {\n",
       "        vertical-align: top;\n",
       "    }\n",
       "\n",
       "    .dataframe thead th {\n",
       "        text-align: right;\n",
       "    }\n",
       "</style>\n",
       "<table border=\"1\" class=\"dataframe\">\n",
       "  <thead>\n",
       "    <tr style=\"text-align: right;\">\n",
       "      <th></th>\n",
       "      <th>Protein</th>\n",
       "      <th>Target</th>\n",
       "      <th>Editing</th>\n",
       "    </tr>\n",
       "  </thead>\n",
       "  <tbody>\n",
       "    <tr>\n",
       "      <th>0</th>\n",
       "      <td>+</td>\n",
       "      <td>NT</td>\n",
       "      <td>0.009722</td>\n",
       "    </tr>\n",
       "    <tr>\n",
       "      <th>1</th>\n",
       "      <td>+</td>\n",
       "      <td>NT</td>\n",
       "      <td>0.016461</td>\n",
       "    </tr>\n",
       "    <tr>\n",
       "      <th>2</th>\n",
       "      <td>+</td>\n",
       "      <td>NT</td>\n",
       "      <td>0.017190</td>\n",
       "    </tr>\n",
       "    <tr>\n",
       "      <th>3</th>\n",
       "      <td>+</td>\n",
       "      <td>NT</td>\n",
       "      <td>0.020658</td>\n",
       "    </tr>\n",
       "    <tr>\n",
       "      <th>4</th>\n",
       "      <td>+</td>\n",
       "      <td>T</td>\n",
       "      <td>0.363039</td>\n",
       "    </tr>\n",
       "    <tr>\n",
       "      <th>5</th>\n",
       "      <td>+</td>\n",
       "      <td>T</td>\n",
       "      <td>0.396324</td>\n",
       "    </tr>\n",
       "    <tr>\n",
       "      <th>6</th>\n",
       "      <td>+</td>\n",
       "      <td>T</td>\n",
       "      <td>0.472937</td>\n",
       "    </tr>\n",
       "    <tr>\n",
       "      <th>7</th>\n",
       "      <td>+</td>\n",
       "      <td>T</td>\n",
       "      <td>0.545977</td>\n",
       "    </tr>\n",
       "    <tr>\n",
       "      <th>8</th>\n",
       "      <td>-</td>\n",
       "      <td>NT</td>\n",
       "      <td>0.000782</td>\n",
       "    </tr>\n",
       "    <tr>\n",
       "      <th>9</th>\n",
       "      <td>-</td>\n",
       "      <td>NT</td>\n",
       "      <td>0.000833</td>\n",
       "    </tr>\n",
       "    <tr>\n",
       "      <th>10</th>\n",
       "      <td>-</td>\n",
       "      <td>NT</td>\n",
       "      <td>0.000855</td>\n",
       "    </tr>\n",
       "    <tr>\n",
       "      <th>11</th>\n",
       "      <td>-</td>\n",
       "      <td>NT</td>\n",
       "      <td>0.001075</td>\n",
       "    </tr>\n",
       "    <tr>\n",
       "      <th>12</th>\n",
       "      <td>-</td>\n",
       "      <td>T</td>\n",
       "      <td>0.000000</td>\n",
       "    </tr>\n",
       "    <tr>\n",
       "      <th>13</th>\n",
       "      <td>-</td>\n",
       "      <td>T</td>\n",
       "      <td>0.000852</td>\n",
       "    </tr>\n",
       "    <tr>\n",
       "      <th>14</th>\n",
       "      <td>-</td>\n",
       "      <td>T</td>\n",
       "      <td>0.001220</td>\n",
       "    </tr>\n",
       "    <tr>\n",
       "      <th>15</th>\n",
       "      <td>-</td>\n",
       "      <td>T</td>\n",
       "      <td>0.001565</td>\n",
       "    </tr>\n",
       "  </tbody>\n",
       "</table>\n",
       "</div>"
      ],
      "text/plain": [
       "   Protein Target   Editing\n",
       "0        +     NT  0.009722\n",
       "1        +     NT  0.016461\n",
       "2        +     NT  0.017190\n",
       "3        +     NT  0.020658\n",
       "4        +      T  0.363039\n",
       "5        +      T  0.396324\n",
       "6        +      T  0.472937\n",
       "7        +      T  0.545977\n",
       "8        -     NT  0.000782\n",
       "9        -     NT  0.000833\n",
       "10       -     NT  0.000855\n",
       "11       -     NT  0.001075\n",
       "12       -      T  0.000000\n",
       "13       -      T  0.000852\n",
       "14       -      T  0.001220\n",
       "15       -      T  0.001565"
      ]
     },
     "execution_count": 203,
     "metadata": {},
     "output_type": "execute_result"
    }
   ],
   "source": [
    "df"
   ]
  },
  {
   "cell_type": "code",
   "execution_count": 205,
   "metadata": {},
   "outputs": [
    {
     "data": {
      "text/plain": [
       "[(0.00972222, '+_NT'),\n",
       " (0.01646091, '+_NT'),\n",
       " (0.01718984, '+_NT'),\n",
       " (0.02065849, '+_NT'),\n",
       " (0.36303871, '+_T'),\n",
       " (0.39632353, '+_T'),\n",
       " (0.472937, '+_T'),\n",
       " (0.54597701, '+_T'),\n",
       " (0.00078186, '-_NT'),\n",
       " (0.00083264, '-_NT'),\n",
       " (0.00085543, '-_NT'),\n",
       " (0.00107527, '-_NT'),\n",
       " (0.0, '-_T'),\n",
       " (0.00085179, '-_T'),\n",
       " (0.00122026, '-_T'),\n",
       " (0.00156495, '-_T')]"
      ]
     },
     "execution_count": 205,
     "metadata": {},
     "output_type": "execute_result"
    }
   ],
   "source": [
    "list(zip(df['Editing'],labels))"
   ]
  },
  {
   "cell_type": "code",
   "execution_count": 222,
   "metadata": {},
   "outputs": [],
   "source": []
  },
  {
   "cell_type": "code",
   "execution_count": 227,
   "metadata": {},
   "outputs": [
    {
     "data": {
      "text/html": [
       "<div>\n",
       "<style scoped>\n",
       "    .dataframe tbody tr th:only-of-type {\n",
       "        vertical-align: middle;\n",
       "    }\n",
       "\n",
       "    .dataframe tbody tr th {\n",
       "        vertical-align: top;\n",
       "    }\n",
       "\n",
       "    .dataframe thead th {\n",
       "        text-align: right;\n",
       "    }\n",
       "</style>\n",
       "<table border=\"1\" class=\"dataframe\">\n",
       "  <thead>\n",
       "    <tr style=\"text-align: right;\">\n",
       "      <th></th>\n",
       "      <th>A</th>\n",
       "      <th>B</th>\n",
       "      <th>mean(A)</th>\n",
       "      <th>mean(B)</th>\n",
       "      <th>diff</th>\n",
       "      <th>se</th>\n",
       "      <th>T</th>\n",
       "      <th>df</th>\n",
       "      <th>pval</th>\n",
       "      <th>hedges</th>\n",
       "    </tr>\n",
       "  </thead>\n",
       "  <tbody>\n",
       "    <tr>\n",
       "      <th>0</th>\n",
       "      <td>+_NT</td>\n",
       "      <td>+_T</td>\n",
       "      <td>0.066268</td>\n",
       "      <td>0.202958</td>\n",
       "      <td>-0.136690</td>\n",
       "      <td>0.011485</td>\n",
       "      <td>-11.901295</td>\n",
       "      <td>5.644089</td>\n",
       "      <td>0.001000</td>\n",
       "      <td>-7.317814</td>\n",
       "    </tr>\n",
       "    <tr>\n",
       "      <th>1</th>\n",
       "      <td>+_NT</td>\n",
       "      <td>-_NT</td>\n",
       "      <td>0.066268</td>\n",
       "      <td>0.000326</td>\n",
       "      <td>0.065942</td>\n",
       "      <td>0.007028</td>\n",
       "      <td>9.382640</td>\n",
       "      <td>3.000065</td>\n",
       "      <td>0.007798</td>\n",
       "      <td>5.769155</td>\n",
       "    </tr>\n",
       "    <tr>\n",
       "      <th>2</th>\n",
       "      <td>+_NT</td>\n",
       "      <td>-_T</td>\n",
       "      <td>0.066268</td>\n",
       "      <td>0.000328</td>\n",
       "      <td>0.065940</td>\n",
       "      <td>0.007028</td>\n",
       "      <td>9.382257</td>\n",
       "      <td>3.000194</td>\n",
       "      <td>0.007797</td>\n",
       "      <td>5.768920</td>\n",
       "    </tr>\n",
       "    <tr>\n",
       "      <th>3</th>\n",
       "      <td>+_T</td>\n",
       "      <td>-_NT</td>\n",
       "      <td>0.202958</td>\n",
       "      <td>0.000326</td>\n",
       "      <td>0.202632</td>\n",
       "      <td>0.009084</td>\n",
       "      <td>22.306448</td>\n",
       "      <td>3.000039</td>\n",
       "      <td>0.001000</td>\n",
       "      <td>13.715688</td>\n",
       "    </tr>\n",
       "    <tr>\n",
       "      <th>4</th>\n",
       "      <td>+_T</td>\n",
       "      <td>-_T</td>\n",
       "      <td>0.202958</td>\n",
       "      <td>0.000328</td>\n",
       "      <td>0.202630</td>\n",
       "      <td>0.009084</td>\n",
       "      <td>22.306087</td>\n",
       "      <td>3.000116</td>\n",
       "      <td>0.001000</td>\n",
       "      <td>13.715465</td>\n",
       "    </tr>\n",
       "    <tr>\n",
       "      <th>5</th>\n",
       "      <td>-_NT</td>\n",
       "      <td>-_T</td>\n",
       "      <td>0.000326</td>\n",
       "      <td>0.000328</td>\n",
       "      <td>-0.000002</td>\n",
       "      <td>0.000046</td>\n",
       "      <td>-0.042749</td>\n",
       "      <td>4.799835</td>\n",
       "      <td>0.900000</td>\n",
       "      <td>-0.026286</td>\n",
       "    </tr>\n",
       "  </tbody>\n",
       "</table>\n",
       "</div>"
      ],
      "text/plain": [
       "      A     B   mean(A)   mean(B)      diff        se          T        df  \\\n",
       "0  +_NT   +_T  0.066268  0.202958 -0.136690  0.011485 -11.901295  5.644089   \n",
       "1  +_NT  -_NT  0.066268  0.000326  0.065942  0.007028   9.382640  3.000065   \n",
       "2  +_NT   -_T  0.066268  0.000328  0.065940  0.007028   9.382257  3.000194   \n",
       "3   +_T  -_NT  0.202958  0.000326  0.202632  0.009084  22.306448  3.000039   \n",
       "4   +_T   -_T  0.202958  0.000328  0.202630  0.009084  22.306087  3.000116   \n",
       "5  -_NT   -_T  0.000326  0.000328 -0.000002  0.000046  -0.042749  4.799835   \n",
       "\n",
       "       pval     hedges  \n",
       "0  0.001000  -7.317814  \n",
       "1  0.007798   5.769155  \n",
       "2  0.007797   5.768920  \n",
       "3  0.001000  13.715688  \n",
       "4  0.001000  13.715465  \n",
       "5  0.900000  -0.026286  "
      ]
     },
     "execution_count": 227,
     "metadata": {},
     "output_type": "execute_result"
    }
   ],
   "source": [
    "result"
   ]
  },
  {
   "cell_type": "code",
   "execution_count": null,
   "metadata": {},
   "outputs": [],
   "source": []
  }
 ],
 "metadata": {
  "kernelspec": {
   "display_name": "Python 3",
   "language": "python",
   "name": "python3"
  },
  "language_info": {
   "codemirror_mode": {
    "name": "ipython",
    "version": 3
   },
   "file_extension": ".py",
   "mimetype": "text/x-python",
   "name": "python",
   "nbconvert_exporter": "python",
   "pygments_lexer": "ipython3",
   "version": "3.8.3"
  }
 },
 "nbformat": 4,
 "nbformat_minor": 4
}
